{
  "nbformat": 4,
  "nbformat_minor": 0,
  "metadata": {
    "colab": {
      "name": "darknet.ipynb",
      "provenance": [],
      "collapsed_sections": [],
      "include_colab_link": true
    },
    "kernelspec": {
      "display_name": "Python 3",
      "language": "python",
      "name": "python3"
    },
    "language_info": {
      "codemirror_mode": {
        "name": "ipython",
        "version": 3
      },
      "file_extension": ".py",
      "mimetype": "text/x-python",
      "name": "python",
      "nbconvert_exporter": "python",
      "pygments_lexer": "ipython3",
      "version": "3.9.0-final"
    }
  },
  "cells": [
    {
      "cell_type": "markdown",
      "metadata": {
        "id": "view-in-github",
        "colab_type": "text"
      },
      "source": [
        "<a href=\"https://colab.research.google.com/github/neupane11/CyberResearchDarknet/blob/main/darknet.ipynb\" target=\"_parent\"><img src=\"https://colab.research.google.com/assets/colab-badge.svg\" alt=\"Open In Colab\"/></a>"
      ]
    },
    {
      "cell_type": "markdown",
      "metadata": {
        "id": "buTQjLR0j_l3"
      },
      "source": [
        "# CIC Darknet 2020\n",
        "\n",
        "We will be using the darknet dataset from Canada Institute of Cyber Security. Our goal is to work with the data to categorize darknet traffic. \n",
        "\n",
        "Steps we will take include:\n",
        "1. Load data\n",
        "2. Analyze data\n",
        "   1. Cleaning the data\n",
        "   2. Data Analysis\n",
        "3. Visualize data\n",
        "4. Split data into train-test set\n",
        "5. Train and test a handful of models\n",
        "6. Select the best model\n",
        "7. Deploy the best model\n"
      ]
    },
    {
      "cell_type": "markdown",
      "metadata": {
        "id": "mxcJ35CitS4-"
      },
      "source": [
        "# Importing Dataset\n"
      ]
    },
    {
      "cell_type": "code",
      "metadata": {
        "id": "h_0c4oJaj_l9"
      },
      "source": [
        "import pandas as pd\n",
        "import numpy as np\n",
        "import os\n",
        "from google.colab import drive"
      ],
      "execution_count": 5,
      "outputs": []
    },
    {
      "cell_type": "markdown",
      "metadata": {
        "id": "ntXXNqfjDl5v"
      },
      "source": [
        "To use the files in Google Collab, we need to follow these steps for each person.\n",
        "\n",
        "1. Go to 'Shared with me/Cyber Research/Darknet' in your google drive\n",
        "2. Right click the 'Experiments' Folder\n",
        "3. Select 'Add shortcut to Drive'\n",
        "\n",
        "This way, the code down below will work for you too!"
      ]
    },
    {
      "cell_type": "code",
      "metadata": {
        "id": "3XIWUCjVDEvB",
        "colab": {
          "base_uri": "https://localhost:8080/"
        },
        "outputId": "076b08c6-e10f-431c-f06a-91384eae09c1"
      },
      "source": [
        "!pwd\n",
        "# Mounting your personal drive so we can use the csv file in our 'Code' folder\n",
        "drive.mount('/content/drive')\n",
        "%cd '/content/drive/My Drive/Code'\n",
        "%ls"
      ],
      "execution_count": 6,
      "outputs": [
        {
          "output_type": "stream",
          "text": [
            "/content\n",
            "Mounted at /content/drive\n",
            "/content/drive/.shortcut-targets-by-id/1kC6SnjfhH2sLMBa10QWH927CWRlISCq2/Code\n",
            "Darknet.CSV  darknet.ipynb\n"
          ],
          "name": "stdout"
        }
      ]
    },
    {
      "cell_type": "code",
      "metadata": {
        "id": "r4TnnTUcj_l-"
      },
      "source": [
        "df = pd.read_csv('Darknet.CSV', index_col='Timestamp', parse_dates=True)"
      ],
      "execution_count": 7,
      "outputs": []
    },
    {
      "cell_type": "markdown",
      "metadata": {
        "id": "8S9Wwa-21vrs"
      },
      "source": [
        "# Analyzing Dataset"
      ]
    },
    {
      "cell_type": "code",
      "metadata": {
        "id": "qGGAWwk_p_Yj",
        "colab": {
          "base_uri": "https://localhost:8080/",
          "height": 701
        },
        "outputId": "66258706-5b5d-4c3c-e19b-c9d2541a7510"
      },
      "source": [
        "# First look at the data \n",
        "df"
      ],
      "execution_count": 8,
      "outputs": [
        {
          "output_type": "execute_result",
          "data": {
            "text/html": [
              "<div>\n",
              "<style scoped>\n",
              "    .dataframe tbody tr th:only-of-type {\n",
              "        vertical-align: middle;\n",
              "    }\n",
              "\n",
              "    .dataframe tbody tr th {\n",
              "        vertical-align: top;\n",
              "    }\n",
              "\n",
              "    .dataframe thead th {\n",
              "        text-align: right;\n",
              "    }\n",
              "</style>\n",
              "<table border=\"1\" class=\"dataframe\">\n",
              "  <thead>\n",
              "    <tr style=\"text-align: right;\">\n",
              "      <th></th>\n",
              "      <th>Flow ID</th>\n",
              "      <th>Src IP</th>\n",
              "      <th>Src Port</th>\n",
              "      <th>Dst IP</th>\n",
              "      <th>Dst Port</th>\n",
              "      <th>Protocol</th>\n",
              "      <th>Flow Duration</th>\n",
              "      <th>Total Fwd Packet</th>\n",
              "      <th>Total Bwd packets</th>\n",
              "      <th>Total Length of Fwd Packet</th>\n",
              "      <th>Total Length of Bwd Packet</th>\n",
              "      <th>Fwd Packet Length Max</th>\n",
              "      <th>Fwd Packet Length Min</th>\n",
              "      <th>Fwd Packet Length Mean</th>\n",
              "      <th>Fwd Packet Length Std</th>\n",
              "      <th>Bwd Packet Length Max</th>\n",
              "      <th>Bwd Packet Length Min</th>\n",
              "      <th>Bwd Packet Length Mean</th>\n",
              "      <th>Bwd Packet Length Std</th>\n",
              "      <th>Flow Bytes/s</th>\n",
              "      <th>Flow Packets/s</th>\n",
              "      <th>Flow IAT Mean</th>\n",
              "      <th>Flow IAT Std</th>\n",
              "      <th>Flow IAT Max</th>\n",
              "      <th>Flow IAT Min</th>\n",
              "      <th>Fwd IAT Total</th>\n",
              "      <th>Fwd IAT Mean</th>\n",
              "      <th>Fwd IAT Std</th>\n",
              "      <th>Fwd IAT Max</th>\n",
              "      <th>Fwd IAT Min</th>\n",
              "      <th>Bwd IAT Total</th>\n",
              "      <th>Bwd IAT Mean</th>\n",
              "      <th>Bwd IAT Std</th>\n",
              "      <th>Bwd IAT Max</th>\n",
              "      <th>Bwd IAT Min</th>\n",
              "      <th>Fwd PSH Flags</th>\n",
              "      <th>Bwd PSH Flags</th>\n",
              "      <th>Fwd URG Flags</th>\n",
              "      <th>Bwd URG Flags</th>\n",
              "      <th>Fwd Header Length</th>\n",
              "      <th>...</th>\n",
              "      <th>Packet Length Max</th>\n",
              "      <th>Packet Length Mean</th>\n",
              "      <th>Packet Length Std</th>\n",
              "      <th>Packet Length Variance</th>\n",
              "      <th>FIN Flag Count</th>\n",
              "      <th>SYN Flag Count</th>\n",
              "      <th>RST Flag Count</th>\n",
              "      <th>PSH Flag Count</th>\n",
              "      <th>ACK Flag Count</th>\n",
              "      <th>URG Flag Count</th>\n",
              "      <th>CWE Flag Count</th>\n",
              "      <th>ECE Flag Count</th>\n",
              "      <th>Down/Up Ratio</th>\n",
              "      <th>Average Packet Size</th>\n",
              "      <th>Fwd Segment Size Avg</th>\n",
              "      <th>Bwd Segment Size Avg</th>\n",
              "      <th>Fwd Bytes/Bulk Avg</th>\n",
              "      <th>Fwd Packet/Bulk Avg</th>\n",
              "      <th>Fwd Bulk Rate Avg</th>\n",
              "      <th>Bwd Bytes/Bulk Avg</th>\n",
              "      <th>Bwd Packet/Bulk Avg</th>\n",
              "      <th>Bwd Bulk Rate Avg</th>\n",
              "      <th>Subflow Fwd Packets</th>\n",
              "      <th>Subflow Fwd Bytes</th>\n",
              "      <th>Subflow Bwd Packets</th>\n",
              "      <th>Subflow Bwd Bytes</th>\n",
              "      <th>FWD Init Win Bytes</th>\n",
              "      <th>Bwd Init Win Bytes</th>\n",
              "      <th>Fwd Act Data Pkts</th>\n",
              "      <th>Fwd Seg Size Min</th>\n",
              "      <th>Active Mean</th>\n",
              "      <th>Active Std</th>\n",
              "      <th>Active Max</th>\n",
              "      <th>Active Min</th>\n",
              "      <th>Idle Mean</th>\n",
              "      <th>Idle Std</th>\n",
              "      <th>Idle Max</th>\n",
              "      <th>Idle Min</th>\n",
              "      <th>Label</th>\n",
              "      <th>Label1</th>\n",
              "    </tr>\n",
              "    <tr>\n",
              "      <th>Timestamp</th>\n",
              "      <th></th>\n",
              "      <th></th>\n",
              "      <th></th>\n",
              "      <th></th>\n",
              "      <th></th>\n",
              "      <th></th>\n",
              "      <th></th>\n",
              "      <th></th>\n",
              "      <th></th>\n",
              "      <th></th>\n",
              "      <th></th>\n",
              "      <th></th>\n",
              "      <th></th>\n",
              "      <th></th>\n",
              "      <th></th>\n",
              "      <th></th>\n",
              "      <th></th>\n",
              "      <th></th>\n",
              "      <th></th>\n",
              "      <th></th>\n",
              "      <th></th>\n",
              "      <th></th>\n",
              "      <th></th>\n",
              "      <th></th>\n",
              "      <th></th>\n",
              "      <th></th>\n",
              "      <th></th>\n",
              "      <th></th>\n",
              "      <th></th>\n",
              "      <th></th>\n",
              "      <th></th>\n",
              "      <th></th>\n",
              "      <th></th>\n",
              "      <th></th>\n",
              "      <th></th>\n",
              "      <th></th>\n",
              "      <th></th>\n",
              "      <th></th>\n",
              "      <th></th>\n",
              "      <th></th>\n",
              "      <th></th>\n",
              "      <th></th>\n",
              "      <th></th>\n",
              "      <th></th>\n",
              "      <th></th>\n",
              "      <th></th>\n",
              "      <th></th>\n",
              "      <th></th>\n",
              "      <th></th>\n",
              "      <th></th>\n",
              "      <th></th>\n",
              "      <th></th>\n",
              "      <th></th>\n",
              "      <th></th>\n",
              "      <th></th>\n",
              "      <th></th>\n",
              "      <th></th>\n",
              "      <th></th>\n",
              "      <th></th>\n",
              "      <th></th>\n",
              "      <th></th>\n",
              "      <th></th>\n",
              "      <th></th>\n",
              "      <th></th>\n",
              "      <th></th>\n",
              "      <th></th>\n",
              "      <th></th>\n",
              "      <th></th>\n",
              "      <th></th>\n",
              "      <th></th>\n",
              "      <th></th>\n",
              "      <th></th>\n",
              "      <th></th>\n",
              "      <th></th>\n",
              "      <th></th>\n",
              "      <th></th>\n",
              "      <th></th>\n",
              "      <th></th>\n",
              "      <th></th>\n",
              "      <th></th>\n",
              "      <th></th>\n",
              "    </tr>\n",
              "  </thead>\n",
              "  <tbody>\n",
              "    <tr>\n",
              "      <th>2015-07-24 16:09:48</th>\n",
              "      <td>10.152.152.11-216.58.220.99-57158-443-6</td>\n",
              "      <td>10.152.152.11</td>\n",
              "      <td>57158</td>\n",
              "      <td>216.58.220.99</td>\n",
              "      <td>443</td>\n",
              "      <td>6</td>\n",
              "      <td>229</td>\n",
              "      <td>1</td>\n",
              "      <td>1</td>\n",
              "      <td>0</td>\n",
              "      <td>0</td>\n",
              "      <td>0</td>\n",
              "      <td>0</td>\n",
              "      <td>0.000000</td>\n",
              "      <td>0.000000</td>\n",
              "      <td>0</td>\n",
              "      <td>0</td>\n",
              "      <td>0.0000</td>\n",
              "      <td>0.000000</td>\n",
              "      <td>0.000000</td>\n",
              "      <td>8733.624454</td>\n",
              "      <td>229.00000</td>\n",
              "      <td>0.000000</td>\n",
              "      <td>229</td>\n",
              "      <td>229</td>\n",
              "      <td>0</td>\n",
              "      <td>0.00000</td>\n",
              "      <td>0.000000</td>\n",
              "      <td>0</td>\n",
              "      <td>0</td>\n",
              "      <td>0</td>\n",
              "      <td>0.00000</td>\n",
              "      <td>0.000000</td>\n",
              "      <td>0</td>\n",
              "      <td>0</td>\n",
              "      <td>0</td>\n",
              "      <td>0</td>\n",
              "      <td>0</td>\n",
              "      <td>0</td>\n",
              "      <td>20</td>\n",
              "      <td>...</td>\n",
              "      <td>0</td>\n",
              "      <td>0.000000</td>\n",
              "      <td>0.00000</td>\n",
              "      <td>0.000000</td>\n",
              "      <td>2</td>\n",
              "      <td>0</td>\n",
              "      <td>0</td>\n",
              "      <td>0</td>\n",
              "      <td>2</td>\n",
              "      <td>0</td>\n",
              "      <td>0</td>\n",
              "      <td>0</td>\n",
              "      <td>1</td>\n",
              "      <td>0.000000</td>\n",
              "      <td>0.000000</td>\n",
              "      <td>0.0000</td>\n",
              "      <td>0</td>\n",
              "      <td>0</td>\n",
              "      <td>0</td>\n",
              "      <td>0</td>\n",
              "      <td>0</td>\n",
              "      <td>0</td>\n",
              "      <td>0</td>\n",
              "      <td>0</td>\n",
              "      <td>0</td>\n",
              "      <td>0</td>\n",
              "      <td>1892</td>\n",
              "      <td>1047</td>\n",
              "      <td>0</td>\n",
              "      <td>20</td>\n",
              "      <td>0</td>\n",
              "      <td>0</td>\n",
              "      <td>0</td>\n",
              "      <td>0</td>\n",
              "      <td>0.000000e+00</td>\n",
              "      <td>0.000000e+00</td>\n",
              "      <td>0.000000e+00</td>\n",
              "      <td>0.000000e+00</td>\n",
              "      <td>Non-Tor</td>\n",
              "      <td>AUDIO-STREAMING</td>\n",
              "    </tr>\n",
              "    <tr>\n",
              "      <th>2015-07-24 16:09:48</th>\n",
              "      <td>10.152.152.11-216.58.220.99-57159-443-6</td>\n",
              "      <td>10.152.152.11</td>\n",
              "      <td>57159</td>\n",
              "      <td>216.58.220.99</td>\n",
              "      <td>443</td>\n",
              "      <td>6</td>\n",
              "      <td>407</td>\n",
              "      <td>1</td>\n",
              "      <td>1</td>\n",
              "      <td>0</td>\n",
              "      <td>0</td>\n",
              "      <td>0</td>\n",
              "      <td>0</td>\n",
              "      <td>0.000000</td>\n",
              "      <td>0.000000</td>\n",
              "      <td>0</td>\n",
              "      <td>0</td>\n",
              "      <td>0.0000</td>\n",
              "      <td>0.000000</td>\n",
              "      <td>0.000000</td>\n",
              "      <td>4914.004914</td>\n",
              "      <td>407.00000</td>\n",
              "      <td>0.000000</td>\n",
              "      <td>407</td>\n",
              "      <td>407</td>\n",
              "      <td>0</td>\n",
              "      <td>0.00000</td>\n",
              "      <td>0.000000</td>\n",
              "      <td>0</td>\n",
              "      <td>0</td>\n",
              "      <td>0</td>\n",
              "      <td>0.00000</td>\n",
              "      <td>0.000000</td>\n",
              "      <td>0</td>\n",
              "      <td>0</td>\n",
              "      <td>0</td>\n",
              "      <td>0</td>\n",
              "      <td>0</td>\n",
              "      <td>0</td>\n",
              "      <td>20</td>\n",
              "      <td>...</td>\n",
              "      <td>0</td>\n",
              "      <td>0.000000</td>\n",
              "      <td>0.00000</td>\n",
              "      <td>0.000000</td>\n",
              "      <td>2</td>\n",
              "      <td>0</td>\n",
              "      <td>0</td>\n",
              "      <td>0</td>\n",
              "      <td>2</td>\n",
              "      <td>0</td>\n",
              "      <td>0</td>\n",
              "      <td>0</td>\n",
              "      <td>1</td>\n",
              "      <td>0.000000</td>\n",
              "      <td>0.000000</td>\n",
              "      <td>0.0000</td>\n",
              "      <td>0</td>\n",
              "      <td>0</td>\n",
              "      <td>0</td>\n",
              "      <td>0</td>\n",
              "      <td>0</td>\n",
              "      <td>0</td>\n",
              "      <td>0</td>\n",
              "      <td>0</td>\n",
              "      <td>0</td>\n",
              "      <td>0</td>\n",
              "      <td>1987</td>\n",
              "      <td>1047</td>\n",
              "      <td>0</td>\n",
              "      <td>20</td>\n",
              "      <td>0</td>\n",
              "      <td>0</td>\n",
              "      <td>0</td>\n",
              "      <td>0</td>\n",
              "      <td>0.000000e+00</td>\n",
              "      <td>0.000000e+00</td>\n",
              "      <td>0.000000e+00</td>\n",
              "      <td>0.000000e+00</td>\n",
              "      <td>Non-Tor</td>\n",
              "      <td>AUDIO-STREAMING</td>\n",
              "    </tr>\n",
              "    <tr>\n",
              "      <th>2015-07-24 16:09:48</th>\n",
              "      <td>10.152.152.11-216.58.220.99-57160-443-6</td>\n",
              "      <td>10.152.152.11</td>\n",
              "      <td>57160</td>\n",
              "      <td>216.58.220.99</td>\n",
              "      <td>443</td>\n",
              "      <td>6</td>\n",
              "      <td>431</td>\n",
              "      <td>1</td>\n",
              "      <td>1</td>\n",
              "      <td>0</td>\n",
              "      <td>0</td>\n",
              "      <td>0</td>\n",
              "      <td>0</td>\n",
              "      <td>0.000000</td>\n",
              "      <td>0.000000</td>\n",
              "      <td>0</td>\n",
              "      <td>0</td>\n",
              "      <td>0.0000</td>\n",
              "      <td>0.000000</td>\n",
              "      <td>0.000000</td>\n",
              "      <td>4640.371230</td>\n",
              "      <td>431.00000</td>\n",
              "      <td>0.000000</td>\n",
              "      <td>431</td>\n",
              "      <td>431</td>\n",
              "      <td>0</td>\n",
              "      <td>0.00000</td>\n",
              "      <td>0.000000</td>\n",
              "      <td>0</td>\n",
              "      <td>0</td>\n",
              "      <td>0</td>\n",
              "      <td>0.00000</td>\n",
              "      <td>0.000000</td>\n",
              "      <td>0</td>\n",
              "      <td>0</td>\n",
              "      <td>0</td>\n",
              "      <td>0</td>\n",
              "      <td>0</td>\n",
              "      <td>0</td>\n",
              "      <td>20</td>\n",
              "      <td>...</td>\n",
              "      <td>0</td>\n",
              "      <td>0.000000</td>\n",
              "      <td>0.00000</td>\n",
              "      <td>0.000000</td>\n",
              "      <td>2</td>\n",
              "      <td>0</td>\n",
              "      <td>0</td>\n",
              "      <td>0</td>\n",
              "      <td>2</td>\n",
              "      <td>0</td>\n",
              "      <td>0</td>\n",
              "      <td>0</td>\n",
              "      <td>1</td>\n",
              "      <td>0.000000</td>\n",
              "      <td>0.000000</td>\n",
              "      <td>0.0000</td>\n",
              "      <td>0</td>\n",
              "      <td>0</td>\n",
              "      <td>0</td>\n",
              "      <td>0</td>\n",
              "      <td>0</td>\n",
              "      <td>0</td>\n",
              "      <td>0</td>\n",
              "      <td>0</td>\n",
              "      <td>0</td>\n",
              "      <td>0</td>\n",
              "      <td>2049</td>\n",
              "      <td>1047</td>\n",
              "      <td>0</td>\n",
              "      <td>20</td>\n",
              "      <td>0</td>\n",
              "      <td>0</td>\n",
              "      <td>0</td>\n",
              "      <td>0</td>\n",
              "      <td>0.000000e+00</td>\n",
              "      <td>0.000000e+00</td>\n",
              "      <td>0.000000e+00</td>\n",
              "      <td>0.000000e+00</td>\n",
              "      <td>Non-Tor</td>\n",
              "      <td>AUDIO-STREAMING</td>\n",
              "    </tr>\n",
              "    <tr>\n",
              "      <th>2015-07-24 16:09:48</th>\n",
              "      <td>10.152.152.11-74.125.136.120-49134-443-6</td>\n",
              "      <td>10.152.152.11</td>\n",
              "      <td>49134</td>\n",
              "      <td>74.125.136.120</td>\n",
              "      <td>443</td>\n",
              "      <td>6</td>\n",
              "      <td>359</td>\n",
              "      <td>1</td>\n",
              "      <td>1</td>\n",
              "      <td>0</td>\n",
              "      <td>0</td>\n",
              "      <td>0</td>\n",
              "      <td>0</td>\n",
              "      <td>0.000000</td>\n",
              "      <td>0.000000</td>\n",
              "      <td>0</td>\n",
              "      <td>0</td>\n",
              "      <td>0.0000</td>\n",
              "      <td>0.000000</td>\n",
              "      <td>0.000000</td>\n",
              "      <td>5571.030641</td>\n",
              "      <td>359.00000</td>\n",
              "      <td>0.000000</td>\n",
              "      <td>359</td>\n",
              "      <td>359</td>\n",
              "      <td>0</td>\n",
              "      <td>0.00000</td>\n",
              "      <td>0.000000</td>\n",
              "      <td>0</td>\n",
              "      <td>0</td>\n",
              "      <td>0</td>\n",
              "      <td>0.00000</td>\n",
              "      <td>0.000000</td>\n",
              "      <td>0</td>\n",
              "      <td>0</td>\n",
              "      <td>0</td>\n",
              "      <td>0</td>\n",
              "      <td>0</td>\n",
              "      <td>0</td>\n",
              "      <td>20</td>\n",
              "      <td>...</td>\n",
              "      <td>0</td>\n",
              "      <td>0.000000</td>\n",
              "      <td>0.00000</td>\n",
              "      <td>0.000000</td>\n",
              "      <td>2</td>\n",
              "      <td>0</td>\n",
              "      <td>0</td>\n",
              "      <td>0</td>\n",
              "      <td>2</td>\n",
              "      <td>0</td>\n",
              "      <td>0</td>\n",
              "      <td>0</td>\n",
              "      <td>1</td>\n",
              "      <td>0.000000</td>\n",
              "      <td>0.000000</td>\n",
              "      <td>0.0000</td>\n",
              "      <td>0</td>\n",
              "      <td>0</td>\n",
              "      <td>0</td>\n",
              "      <td>0</td>\n",
              "      <td>0</td>\n",
              "      <td>0</td>\n",
              "      <td>0</td>\n",
              "      <td>0</td>\n",
              "      <td>0</td>\n",
              "      <td>0</td>\n",
              "      <td>2008</td>\n",
              "      <td>1047</td>\n",
              "      <td>0</td>\n",
              "      <td>20</td>\n",
              "      <td>0</td>\n",
              "      <td>0</td>\n",
              "      <td>0</td>\n",
              "      <td>0</td>\n",
              "      <td>0.000000e+00</td>\n",
              "      <td>0.000000e+00</td>\n",
              "      <td>0.000000e+00</td>\n",
              "      <td>0.000000e+00</td>\n",
              "      <td>Non-Tor</td>\n",
              "      <td>AUDIO-STREAMING</td>\n",
              "    </tr>\n",
              "    <tr>\n",
              "      <th>2015-07-24 16:09:45</th>\n",
              "      <td>10.152.152.11-173.194.65.127-34697-19305-6</td>\n",
              "      <td>10.152.152.11</td>\n",
              "      <td>34697</td>\n",
              "      <td>173.194.65.127</td>\n",
              "      <td>19305</td>\n",
              "      <td>6</td>\n",
              "      <td>10778451</td>\n",
              "      <td>591</td>\n",
              "      <td>400</td>\n",
              "      <td>64530</td>\n",
              "      <td>6659</td>\n",
              "      <td>131</td>\n",
              "      <td>0</td>\n",
              "      <td>109.187817</td>\n",
              "      <td>22.283313</td>\n",
              "      <td>498</td>\n",
              "      <td>0</td>\n",
              "      <td>16.6475</td>\n",
              "      <td>46.833714</td>\n",
              "      <td>6604.752390</td>\n",
              "      <td>91.942711</td>\n",
              "      <td>10887.32424</td>\n",
              "      <td>11412.466410</td>\n",
              "      <td>78158</td>\n",
              "      <td>13</td>\n",
              "      <td>10778451</td>\n",
              "      <td>18268.56102</td>\n",
              "      <td>11786.143090</td>\n",
              "      <td>81171</td>\n",
              "      <td>126</td>\n",
              "      <td>10747836</td>\n",
              "      <td>26936.93233</td>\n",
              "      <td>15897.738450</td>\n",
              "      <td>78158</td>\n",
              "      <td>307</td>\n",
              "      <td>1</td>\n",
              "      <td>0</td>\n",
              "      <td>0</td>\n",
              "      <td>0</td>\n",
              "      <td>11820</td>\n",
              "      <td>...</td>\n",
              "      <td>498</td>\n",
              "      <td>71.876008</td>\n",
              "      <td>56.93647</td>\n",
              "      <td>3241.761603</td>\n",
              "      <td>1</td>\n",
              "      <td>0</td>\n",
              "      <td>0</td>\n",
              "      <td>659</td>\n",
              "      <td>991</td>\n",
              "      <td>0</td>\n",
              "      <td>0</td>\n",
              "      <td>0</td>\n",
              "      <td>0</td>\n",
              "      <td>71.948537</td>\n",
              "      <td>109.187817</td>\n",
              "      <td>16.6475</td>\n",
              "      <td>0</td>\n",
              "      <td>0</td>\n",
              "      <td>0</td>\n",
              "      <td>0</td>\n",
              "      <td>659</td>\n",
              "      <td>6605</td>\n",
              "      <td>0</td>\n",
              "      <td>65</td>\n",
              "      <td>0</td>\n",
              "      <td>6</td>\n",
              "      <td>1382</td>\n",
              "      <td>2320</td>\n",
              "      <td>581</td>\n",
              "      <td>20</td>\n",
              "      <td>0</td>\n",
              "      <td>0</td>\n",
              "      <td>0</td>\n",
              "      <td>0</td>\n",
              "      <td>1.437760e+15</td>\n",
              "      <td>3.117718e+06</td>\n",
              "      <td>1.437760e+15</td>\n",
              "      <td>1.437760e+15</td>\n",
              "      <td>Non-Tor</td>\n",
              "      <td>AUDIO-STREAMING</td>\n",
              "    </tr>\n",
              "    <tr>\n",
              "      <th>...</th>\n",
              "      <td>...</td>\n",
              "      <td>...</td>\n",
              "      <td>...</td>\n",
              "      <td>...</td>\n",
              "      <td>...</td>\n",
              "      <td>...</td>\n",
              "      <td>...</td>\n",
              "      <td>...</td>\n",
              "      <td>...</td>\n",
              "      <td>...</td>\n",
              "      <td>...</td>\n",
              "      <td>...</td>\n",
              "      <td>...</td>\n",
              "      <td>...</td>\n",
              "      <td>...</td>\n",
              "      <td>...</td>\n",
              "      <td>...</td>\n",
              "      <td>...</td>\n",
              "      <td>...</td>\n",
              "      <td>...</td>\n",
              "      <td>...</td>\n",
              "      <td>...</td>\n",
              "      <td>...</td>\n",
              "      <td>...</td>\n",
              "      <td>...</td>\n",
              "      <td>...</td>\n",
              "      <td>...</td>\n",
              "      <td>...</td>\n",
              "      <td>...</td>\n",
              "      <td>...</td>\n",
              "      <td>...</td>\n",
              "      <td>...</td>\n",
              "      <td>...</td>\n",
              "      <td>...</td>\n",
              "      <td>...</td>\n",
              "      <td>...</td>\n",
              "      <td>...</td>\n",
              "      <td>...</td>\n",
              "      <td>...</td>\n",
              "      <td>...</td>\n",
              "      <td>...</td>\n",
              "      <td>...</td>\n",
              "      <td>...</td>\n",
              "      <td>...</td>\n",
              "      <td>...</td>\n",
              "      <td>...</td>\n",
              "      <td>...</td>\n",
              "      <td>...</td>\n",
              "      <td>...</td>\n",
              "      <td>...</td>\n",
              "      <td>...</td>\n",
              "      <td>...</td>\n",
              "      <td>...</td>\n",
              "      <td>...</td>\n",
              "      <td>...</td>\n",
              "      <td>...</td>\n",
              "      <td>...</td>\n",
              "      <td>...</td>\n",
              "      <td>...</td>\n",
              "      <td>...</td>\n",
              "      <td>...</td>\n",
              "      <td>...</td>\n",
              "      <td>...</td>\n",
              "      <td>...</td>\n",
              "      <td>...</td>\n",
              "      <td>...</td>\n",
              "      <td>...</td>\n",
              "      <td>...</td>\n",
              "      <td>...</td>\n",
              "      <td>...</td>\n",
              "      <td>...</td>\n",
              "      <td>...</td>\n",
              "      <td>...</td>\n",
              "      <td>...</td>\n",
              "      <td>...</td>\n",
              "      <td>...</td>\n",
              "      <td>...</td>\n",
              "      <td>...</td>\n",
              "      <td>...</td>\n",
              "      <td>...</td>\n",
              "      <td>...</td>\n",
              "    </tr>\n",
              "    <tr>\n",
              "      <th>2015-05-22 13:55:03</th>\n",
              "      <td>10.8.8.246-224.0.0.252-55219-5355-17</td>\n",
              "      <td>10.8.8.246</td>\n",
              "      <td>55219</td>\n",
              "      <td>224.0.0.252</td>\n",
              "      <td>5355</td>\n",
              "      <td>17</td>\n",
              "      <td>411806</td>\n",
              "      <td>2</td>\n",
              "      <td>0</td>\n",
              "      <td>44</td>\n",
              "      <td>0</td>\n",
              "      <td>22</td>\n",
              "      <td>22</td>\n",
              "      <td>22.000000</td>\n",
              "      <td>0.000000</td>\n",
              "      <td>0</td>\n",
              "      <td>0</td>\n",
              "      <td>0.0000</td>\n",
              "      <td>0.000000</td>\n",
              "      <td>106.846428</td>\n",
              "      <td>4.856656</td>\n",
              "      <td>411806.00000</td>\n",
              "      <td>0.000000</td>\n",
              "      <td>411806</td>\n",
              "      <td>411806</td>\n",
              "      <td>411806</td>\n",
              "      <td>411806.00000</td>\n",
              "      <td>0.000000</td>\n",
              "      <td>411806</td>\n",
              "      <td>411806</td>\n",
              "      <td>0</td>\n",
              "      <td>0.00000</td>\n",
              "      <td>0.000000</td>\n",
              "      <td>0</td>\n",
              "      <td>0</td>\n",
              "      <td>0</td>\n",
              "      <td>0</td>\n",
              "      <td>0</td>\n",
              "      <td>0</td>\n",
              "      <td>16</td>\n",
              "      <td>...</td>\n",
              "      <td>22</td>\n",
              "      <td>22.000000</td>\n",
              "      <td>0.00000</td>\n",
              "      <td>0.000000</td>\n",
              "      <td>0</td>\n",
              "      <td>0</td>\n",
              "      <td>0</td>\n",
              "      <td>0</td>\n",
              "      <td>0</td>\n",
              "      <td>0</td>\n",
              "      <td>0</td>\n",
              "      <td>0</td>\n",
              "      <td>0</td>\n",
              "      <td>33.000000</td>\n",
              "      <td>22.000000</td>\n",
              "      <td>0.0000</td>\n",
              "      <td>0</td>\n",
              "      <td>0</td>\n",
              "      <td>0</td>\n",
              "      <td>0</td>\n",
              "      <td>0</td>\n",
              "      <td>0</td>\n",
              "      <td>1</td>\n",
              "      <td>22</td>\n",
              "      <td>0</td>\n",
              "      <td>0</td>\n",
              "      <td>0</td>\n",
              "      <td>0</td>\n",
              "      <td>1</td>\n",
              "      <td>8</td>\n",
              "      <td>0</td>\n",
              "      <td>0</td>\n",
              "      <td>0</td>\n",
              "      <td>0</td>\n",
              "      <td>0.000000e+00</td>\n",
              "      <td>0.000000e+00</td>\n",
              "      <td>0.000000e+00</td>\n",
              "      <td>0.000000e+00</td>\n",
              "      <td>VPN</td>\n",
              "      <td>VOIP</td>\n",
              "    </tr>\n",
              "    <tr>\n",
              "      <th>2015-05-22 14:09:05</th>\n",
              "      <td>10.8.8.246-224.0.0.252-64207-5355-17</td>\n",
              "      <td>10.8.8.246</td>\n",
              "      <td>64207</td>\n",
              "      <td>224.0.0.252</td>\n",
              "      <td>5355</td>\n",
              "      <td>17</td>\n",
              "      <td>411574</td>\n",
              "      <td>2</td>\n",
              "      <td>0</td>\n",
              "      <td>44</td>\n",
              "      <td>0</td>\n",
              "      <td>22</td>\n",
              "      <td>22</td>\n",
              "      <td>22.000000</td>\n",
              "      <td>0.000000</td>\n",
              "      <td>0</td>\n",
              "      <td>0</td>\n",
              "      <td>0.0000</td>\n",
              "      <td>0.000000</td>\n",
              "      <td>106.906656</td>\n",
              "      <td>4.859393</td>\n",
              "      <td>411574.00000</td>\n",
              "      <td>0.000000</td>\n",
              "      <td>411574</td>\n",
              "      <td>411574</td>\n",
              "      <td>411574</td>\n",
              "      <td>411574.00000</td>\n",
              "      <td>0.000000</td>\n",
              "      <td>411574</td>\n",
              "      <td>411574</td>\n",
              "      <td>0</td>\n",
              "      <td>0.00000</td>\n",
              "      <td>0.000000</td>\n",
              "      <td>0</td>\n",
              "      <td>0</td>\n",
              "      <td>0</td>\n",
              "      <td>0</td>\n",
              "      <td>0</td>\n",
              "      <td>0</td>\n",
              "      <td>16</td>\n",
              "      <td>...</td>\n",
              "      <td>22</td>\n",
              "      <td>22.000000</td>\n",
              "      <td>0.00000</td>\n",
              "      <td>0.000000</td>\n",
              "      <td>0</td>\n",
              "      <td>0</td>\n",
              "      <td>0</td>\n",
              "      <td>0</td>\n",
              "      <td>0</td>\n",
              "      <td>0</td>\n",
              "      <td>0</td>\n",
              "      <td>0</td>\n",
              "      <td>0</td>\n",
              "      <td>33.000000</td>\n",
              "      <td>22.000000</td>\n",
              "      <td>0.0000</td>\n",
              "      <td>0</td>\n",
              "      <td>0</td>\n",
              "      <td>0</td>\n",
              "      <td>0</td>\n",
              "      <td>0</td>\n",
              "      <td>0</td>\n",
              "      <td>1</td>\n",
              "      <td>22</td>\n",
              "      <td>0</td>\n",
              "      <td>0</td>\n",
              "      <td>0</td>\n",
              "      <td>0</td>\n",
              "      <td>1</td>\n",
              "      <td>8</td>\n",
              "      <td>0</td>\n",
              "      <td>0</td>\n",
              "      <td>0</td>\n",
              "      <td>0</td>\n",
              "      <td>0.000000e+00</td>\n",
              "      <td>0.000000e+00</td>\n",
              "      <td>0.000000e+00</td>\n",
              "      <td>0.000000e+00</td>\n",
              "      <td>VPN</td>\n",
              "      <td>VOIP</td>\n",
              "    </tr>\n",
              "    <tr>\n",
              "      <th>2015-05-22 14:19:31</th>\n",
              "      <td>10.8.8.246-224.0.0.252-61115-5355-17</td>\n",
              "      <td>10.8.8.246</td>\n",
              "      <td>61115</td>\n",
              "      <td>224.0.0.252</td>\n",
              "      <td>5355</td>\n",
              "      <td>17</td>\n",
              "      <td>422299</td>\n",
              "      <td>2</td>\n",
              "      <td>0</td>\n",
              "      <td>44</td>\n",
              "      <td>0</td>\n",
              "      <td>22</td>\n",
              "      <td>22</td>\n",
              "      <td>22.000000</td>\n",
              "      <td>0.000000</td>\n",
              "      <td>0</td>\n",
              "      <td>0</td>\n",
              "      <td>0.0000</td>\n",
              "      <td>0.000000</td>\n",
              "      <td>104.191580</td>\n",
              "      <td>4.735981</td>\n",
              "      <td>422299.00000</td>\n",
              "      <td>0.000000</td>\n",
              "      <td>422299</td>\n",
              "      <td>422299</td>\n",
              "      <td>422299</td>\n",
              "      <td>422299.00000</td>\n",
              "      <td>0.000000</td>\n",
              "      <td>422299</td>\n",
              "      <td>422299</td>\n",
              "      <td>0</td>\n",
              "      <td>0.00000</td>\n",
              "      <td>0.000000</td>\n",
              "      <td>0</td>\n",
              "      <td>0</td>\n",
              "      <td>0</td>\n",
              "      <td>0</td>\n",
              "      <td>0</td>\n",
              "      <td>0</td>\n",
              "      <td>16</td>\n",
              "      <td>...</td>\n",
              "      <td>22</td>\n",
              "      <td>22.000000</td>\n",
              "      <td>0.00000</td>\n",
              "      <td>0.000000</td>\n",
              "      <td>0</td>\n",
              "      <td>0</td>\n",
              "      <td>0</td>\n",
              "      <td>0</td>\n",
              "      <td>0</td>\n",
              "      <td>0</td>\n",
              "      <td>0</td>\n",
              "      <td>0</td>\n",
              "      <td>0</td>\n",
              "      <td>33.000000</td>\n",
              "      <td>22.000000</td>\n",
              "      <td>0.0000</td>\n",
              "      <td>0</td>\n",
              "      <td>0</td>\n",
              "      <td>0</td>\n",
              "      <td>0</td>\n",
              "      <td>0</td>\n",
              "      <td>0</td>\n",
              "      <td>1</td>\n",
              "      <td>22</td>\n",
              "      <td>0</td>\n",
              "      <td>0</td>\n",
              "      <td>0</td>\n",
              "      <td>0</td>\n",
              "      <td>1</td>\n",
              "      <td>8</td>\n",
              "      <td>0</td>\n",
              "      <td>0</td>\n",
              "      <td>0</td>\n",
              "      <td>0</td>\n",
              "      <td>0.000000e+00</td>\n",
              "      <td>0.000000e+00</td>\n",
              "      <td>0.000000e+00</td>\n",
              "      <td>0.000000e+00</td>\n",
              "      <td>VPN</td>\n",
              "      <td>VOIP</td>\n",
              "    </tr>\n",
              "    <tr>\n",
              "      <th>2015-05-22 14:29:55</th>\n",
              "      <td>10.8.8.246-224.0.0.252-64790-5355-17</td>\n",
              "      <td>10.8.8.246</td>\n",
              "      <td>64790</td>\n",
              "      <td>224.0.0.252</td>\n",
              "      <td>5355</td>\n",
              "      <td>17</td>\n",
              "      <td>411855</td>\n",
              "      <td>2</td>\n",
              "      <td>0</td>\n",
              "      <td>44</td>\n",
              "      <td>0</td>\n",
              "      <td>22</td>\n",
              "      <td>22</td>\n",
              "      <td>22.000000</td>\n",
              "      <td>0.000000</td>\n",
              "      <td>0</td>\n",
              "      <td>0</td>\n",
              "      <td>0.0000</td>\n",
              "      <td>0.000000</td>\n",
              "      <td>106.833716</td>\n",
              "      <td>4.856078</td>\n",
              "      <td>411855.00000</td>\n",
              "      <td>0.000000</td>\n",
              "      <td>411855</td>\n",
              "      <td>411855</td>\n",
              "      <td>411855</td>\n",
              "      <td>411855.00000</td>\n",
              "      <td>0.000000</td>\n",
              "      <td>411855</td>\n",
              "      <td>411855</td>\n",
              "      <td>0</td>\n",
              "      <td>0.00000</td>\n",
              "      <td>0.000000</td>\n",
              "      <td>0</td>\n",
              "      <td>0</td>\n",
              "      <td>0</td>\n",
              "      <td>0</td>\n",
              "      <td>0</td>\n",
              "      <td>0</td>\n",
              "      <td>16</td>\n",
              "      <td>...</td>\n",
              "      <td>22</td>\n",
              "      <td>22.000000</td>\n",
              "      <td>0.00000</td>\n",
              "      <td>0.000000</td>\n",
              "      <td>0</td>\n",
              "      <td>0</td>\n",
              "      <td>0</td>\n",
              "      <td>0</td>\n",
              "      <td>0</td>\n",
              "      <td>0</td>\n",
              "      <td>0</td>\n",
              "      <td>0</td>\n",
              "      <td>0</td>\n",
              "      <td>33.000000</td>\n",
              "      <td>22.000000</td>\n",
              "      <td>0.0000</td>\n",
              "      <td>0</td>\n",
              "      <td>0</td>\n",
              "      <td>0</td>\n",
              "      <td>0</td>\n",
              "      <td>0</td>\n",
              "      <td>0</td>\n",
              "      <td>1</td>\n",
              "      <td>22</td>\n",
              "      <td>0</td>\n",
              "      <td>0</td>\n",
              "      <td>0</td>\n",
              "      <td>0</td>\n",
              "      <td>1</td>\n",
              "      <td>8</td>\n",
              "      <td>0</td>\n",
              "      <td>0</td>\n",
              "      <td>0</td>\n",
              "      <td>0</td>\n",
              "      <td>0.000000e+00</td>\n",
              "      <td>0.000000e+00</td>\n",
              "      <td>0.000000e+00</td>\n",
              "      <td>0.000000e+00</td>\n",
              "      <td>VPN</td>\n",
              "      <td>VOIP</td>\n",
              "    </tr>\n",
              "    <tr>\n",
              "      <th>2015-05-22 14:31:23</th>\n",
              "      <td>80.239.235.110-10.8.8.246-11666-60245-17</td>\n",
              "      <td>80.239.235.110</td>\n",
              "      <td>11666</td>\n",
              "      <td>10.8.8.246</td>\n",
              "      <td>60245</td>\n",
              "      <td>17</td>\n",
              "      <td>119990044</td>\n",
              "      <td>5995</td>\n",
              "      <td>6000</td>\n",
              "      <td>497585</td>\n",
              "      <td>498000</td>\n",
              "      <td>83</td>\n",
              "      <td>83</td>\n",
              "      <td>83.000000</td>\n",
              "      <td>0.000000</td>\n",
              "      <td>83</td>\n",
              "      <td>83</td>\n",
              "      <td>83.0000</td>\n",
              "      <td>0.000000</td>\n",
              "      <td>8297.230060</td>\n",
              "      <td>99.966627</td>\n",
              "      <td>10004.17242</td>\n",
              "      <td>6062.617783</td>\n",
              "      <td>24192</td>\n",
              "      <td>48</td>\n",
              "      <td>119976697</td>\n",
              "      <td>20016.13230</td>\n",
              "      <td>4563.211794</td>\n",
              "      <td>84684</td>\n",
              "      <td>86</td>\n",
              "      <td>119988870</td>\n",
              "      <td>20001.47858</td>\n",
              "      <td>3396.391469</td>\n",
              "      <td>25437</td>\n",
              "      <td>5780</td>\n",
              "      <td>0</td>\n",
              "      <td>0</td>\n",
              "      <td>0</td>\n",
              "      <td>0</td>\n",
              "      <td>47960</td>\n",
              "      <td>...</td>\n",
              "      <td>83</td>\n",
              "      <td>83.000000</td>\n",
              "      <td>0.00000</td>\n",
              "      <td>0.000000</td>\n",
              "      <td>0</td>\n",
              "      <td>0</td>\n",
              "      <td>0</td>\n",
              "      <td>0</td>\n",
              "      <td>0</td>\n",
              "      <td>0</td>\n",
              "      <td>0</td>\n",
              "      <td>0</td>\n",
              "      <td>1</td>\n",
              "      <td>83.006920</td>\n",
              "      <td>83.000000</td>\n",
              "      <td>83.0000</td>\n",
              "      <td>0</td>\n",
              "      <td>0</td>\n",
              "      <td>0</td>\n",
              "      <td>0</td>\n",
              "      <td>11995</td>\n",
              "      <td>8297</td>\n",
              "      <td>0</td>\n",
              "      <td>41</td>\n",
              "      <td>0</td>\n",
              "      <td>41</td>\n",
              "      <td>0</td>\n",
              "      <td>0</td>\n",
              "      <td>5994</td>\n",
              "      <td>8</td>\n",
              "      <td>0</td>\n",
              "      <td>0</td>\n",
              "      <td>0</td>\n",
              "      <td>0</td>\n",
              "      <td>1.432320e+15</td>\n",
              "      <td>3.463689e+07</td>\n",
              "      <td>1.432320e+15</td>\n",
              "      <td>1.432320e+15</td>\n",
              "      <td>VPN</td>\n",
              "      <td>VOIP</td>\n",
              "    </tr>\n",
              "  </tbody>\n",
              "</table>\n",
              "<p>141530 rows × 84 columns</p>\n",
              "</div>"
            ],
            "text/plain": [
              "                                                        Flow ID  ...           Label1\n",
              "Timestamp                                                        ...                 \n",
              "2015-07-24 16:09:48     10.152.152.11-216.58.220.99-57158-443-6  ...  AUDIO-STREAMING\n",
              "2015-07-24 16:09:48     10.152.152.11-216.58.220.99-57159-443-6  ...  AUDIO-STREAMING\n",
              "2015-07-24 16:09:48     10.152.152.11-216.58.220.99-57160-443-6  ...  AUDIO-STREAMING\n",
              "2015-07-24 16:09:48    10.152.152.11-74.125.136.120-49134-443-6  ...  AUDIO-STREAMING\n",
              "2015-07-24 16:09:45  10.152.152.11-173.194.65.127-34697-19305-6  ...  AUDIO-STREAMING\n",
              "...                                                         ...  ...              ...\n",
              "2015-05-22 13:55:03        10.8.8.246-224.0.0.252-55219-5355-17  ...             VOIP\n",
              "2015-05-22 14:09:05        10.8.8.246-224.0.0.252-64207-5355-17  ...             VOIP\n",
              "2015-05-22 14:19:31        10.8.8.246-224.0.0.252-61115-5355-17  ...             VOIP\n",
              "2015-05-22 14:29:55        10.8.8.246-224.0.0.252-64790-5355-17  ...             VOIP\n",
              "2015-05-22 14:31:23    80.239.235.110-10.8.8.246-11666-60245-17  ...             VOIP\n",
              "\n",
              "[141530 rows x 84 columns]"
            ]
          },
          "metadata": {
            "tags": []
          },
          "execution_count": 8
        }
      ]
    },
    {
      "cell_type": "code",
      "metadata": {
        "id": "a1RUL9ai2V0c",
        "colab": {
          "base_uri": "https://localhost:8080/"
        },
        "outputId": "5abf325c-9fd1-447d-cf87-46ec88a89db6"
      },
      "source": [
        "# Here we can see the dimensions of the data\n",
        "df.shape"
      ],
      "execution_count": 9,
      "outputs": [
        {
          "output_type": "execute_result",
          "data": {
            "text/plain": [
              "(141530, 84)"
            ]
          },
          "metadata": {
            "tags": []
          },
          "execution_count": 9
        }
      ]
    },
    {
      "cell_type": "code",
      "metadata": {
        "id": "3NQ2W7brj_l_",
        "colab": {
          "base_uri": "https://localhost:8080/",
          "height": 372
        },
        "outputId": "e416301e-3791-447d-c72f-978e69f8b9ef"
      },
      "source": [
        "# Showing a general stats for the data\n",
        "df.describe()"
      ],
      "execution_count": 10,
      "outputs": [
        {
          "output_type": "execute_result",
          "data": {
            "text/html": [
              "<div>\n",
              "<style scoped>\n",
              "    .dataframe tbody tr th:only-of-type {\n",
              "        vertical-align: middle;\n",
              "    }\n",
              "\n",
              "    .dataframe tbody tr th {\n",
              "        vertical-align: top;\n",
              "    }\n",
              "\n",
              "    .dataframe thead th {\n",
              "        text-align: right;\n",
              "    }\n",
              "</style>\n",
              "<table border=\"1\" class=\"dataframe\">\n",
              "  <thead>\n",
              "    <tr style=\"text-align: right;\">\n",
              "      <th></th>\n",
              "      <th>Src Port</th>\n",
              "      <th>Dst Port</th>\n",
              "      <th>Protocol</th>\n",
              "      <th>Flow Duration</th>\n",
              "      <th>Total Fwd Packet</th>\n",
              "      <th>Total Bwd packets</th>\n",
              "      <th>Total Length of Fwd Packet</th>\n",
              "      <th>Total Length of Bwd Packet</th>\n",
              "      <th>Fwd Packet Length Max</th>\n",
              "      <th>Fwd Packet Length Min</th>\n",
              "      <th>Fwd Packet Length Mean</th>\n",
              "      <th>Fwd Packet Length Std</th>\n",
              "      <th>Bwd Packet Length Max</th>\n",
              "      <th>Bwd Packet Length Min</th>\n",
              "      <th>Bwd Packet Length Mean</th>\n",
              "      <th>Bwd Packet Length Std</th>\n",
              "      <th>Flow Bytes/s</th>\n",
              "      <th>Flow Packets/s</th>\n",
              "      <th>Flow IAT Mean</th>\n",
              "      <th>Flow IAT Std</th>\n",
              "      <th>Flow IAT Max</th>\n",
              "      <th>Flow IAT Min</th>\n",
              "      <th>Fwd IAT Total</th>\n",
              "      <th>Fwd IAT Mean</th>\n",
              "      <th>Fwd IAT Std</th>\n",
              "      <th>Fwd IAT Max</th>\n",
              "      <th>Fwd IAT Min</th>\n",
              "      <th>Bwd IAT Total</th>\n",
              "      <th>Bwd IAT Mean</th>\n",
              "      <th>Bwd IAT Std</th>\n",
              "      <th>Bwd IAT Max</th>\n",
              "      <th>Bwd IAT Min</th>\n",
              "      <th>Fwd PSH Flags</th>\n",
              "      <th>Bwd PSH Flags</th>\n",
              "      <th>Fwd URG Flags</th>\n",
              "      <th>Bwd URG Flags</th>\n",
              "      <th>Fwd Header Length</th>\n",
              "      <th>Bwd Header Length</th>\n",
              "      <th>Fwd Packets/s</th>\n",
              "      <th>Bwd Packets/s</th>\n",
              "      <th>Packet Length Min</th>\n",
              "      <th>Packet Length Max</th>\n",
              "      <th>Packet Length Mean</th>\n",
              "      <th>Packet Length Std</th>\n",
              "      <th>Packet Length Variance</th>\n",
              "      <th>FIN Flag Count</th>\n",
              "      <th>SYN Flag Count</th>\n",
              "      <th>RST Flag Count</th>\n",
              "      <th>PSH Flag Count</th>\n",
              "      <th>ACK Flag Count</th>\n",
              "      <th>URG Flag Count</th>\n",
              "      <th>CWE Flag Count</th>\n",
              "      <th>ECE Flag Count</th>\n",
              "      <th>Down/Up Ratio</th>\n",
              "      <th>Average Packet Size</th>\n",
              "      <th>Fwd Segment Size Avg</th>\n",
              "      <th>Bwd Segment Size Avg</th>\n",
              "      <th>Fwd Bytes/Bulk Avg</th>\n",
              "      <th>Fwd Packet/Bulk Avg</th>\n",
              "      <th>Fwd Bulk Rate Avg</th>\n",
              "      <th>Bwd Bytes/Bulk Avg</th>\n",
              "      <th>Bwd Packet/Bulk Avg</th>\n",
              "      <th>Bwd Bulk Rate Avg</th>\n",
              "      <th>Subflow Fwd Packets</th>\n",
              "      <th>Subflow Fwd Bytes</th>\n",
              "      <th>Subflow Bwd Packets</th>\n",
              "      <th>Subflow Bwd Bytes</th>\n",
              "      <th>FWD Init Win Bytes</th>\n",
              "      <th>Bwd Init Win Bytes</th>\n",
              "      <th>Fwd Act Data Pkts</th>\n",
              "      <th>Fwd Seg Size Min</th>\n",
              "      <th>Active Mean</th>\n",
              "      <th>Active Std</th>\n",
              "      <th>Active Max</th>\n",
              "      <th>Active Min</th>\n",
              "      <th>Idle Mean</th>\n",
              "      <th>Idle Std</th>\n",
              "      <th>Idle Max</th>\n",
              "      <th>Idle Min</th>\n",
              "    </tr>\n",
              "  </thead>\n",
              "  <tbody>\n",
              "    <tr>\n",
              "      <th>count</th>\n",
              "      <td>141530.000000</td>\n",
              "      <td>141530.000000</td>\n",
              "      <td>141530.000000</td>\n",
              "      <td>1.415300e+05</td>\n",
              "      <td>141530.000000</td>\n",
              "      <td>141530.000000</td>\n",
              "      <td>1.415300e+05</td>\n",
              "      <td>1.415300e+05</td>\n",
              "      <td>141530.000000</td>\n",
              "      <td>141530.000000</td>\n",
              "      <td>141530.000000</td>\n",
              "      <td>141530.000000</td>\n",
              "      <td>141530.000000</td>\n",
              "      <td>141530.000000</td>\n",
              "      <td>141530.000000</td>\n",
              "      <td>141530.000000</td>\n",
              "      <td>1.414830e+05</td>\n",
              "      <td>1.415300e+05</td>\n",
              "      <td>1.415300e+05</td>\n",
              "      <td>1.415300e+05</td>\n",
              "      <td>1.415300e+05</td>\n",
              "      <td>1.415300e+05</td>\n",
              "      <td>1.415300e+05</td>\n",
              "      <td>1.415300e+05</td>\n",
              "      <td>1.415300e+05</td>\n",
              "      <td>1.415300e+05</td>\n",
              "      <td>1.415300e+05</td>\n",
              "      <td>1.415300e+05</td>\n",
              "      <td>1.415300e+05</td>\n",
              "      <td>1.415300e+05</td>\n",
              "      <td>1.415300e+05</td>\n",
              "      <td>1.415300e+05</td>\n",
              "      <td>141530.000000</td>\n",
              "      <td>141530.0</td>\n",
              "      <td>141530.0</td>\n",
              "      <td>141530.0</td>\n",
              "      <td>1.415300e+05</td>\n",
              "      <td>1.415300e+05</td>\n",
              "      <td>1.415300e+05</td>\n",
              "      <td>141530.000000</td>\n",
              "      <td>141530.000000</td>\n",
              "      <td>141530.000000</td>\n",
              "      <td>141530.000000</td>\n",
              "      <td>141530.000000</td>\n",
              "      <td>1.415300e+05</td>\n",
              "      <td>141530.000000</td>\n",
              "      <td>141530.000000</td>\n",
              "      <td>141530.000000</td>\n",
              "      <td>141530.000000</td>\n",
              "      <td>141530.000000</td>\n",
              "      <td>141530.0</td>\n",
              "      <td>141530.0</td>\n",
              "      <td>141530.0</td>\n",
              "      <td>141530.000000</td>\n",
              "      <td>141530.000000</td>\n",
              "      <td>141530.000000</td>\n",
              "      <td>141530.000000</td>\n",
              "      <td>141530.0</td>\n",
              "      <td>141530.0</td>\n",
              "      <td>141530.0</td>\n",
              "      <td>141530.0</td>\n",
              "      <td>141530.000000</td>\n",
              "      <td>1.415300e+05</td>\n",
              "      <td>141530.000000</td>\n",
              "      <td>141530.000000</td>\n",
              "      <td>141530.0</td>\n",
              "      <td>141530.000000</td>\n",
              "      <td>141530.000000</td>\n",
              "      <td>141530.000000</td>\n",
              "      <td>141530.000000</td>\n",
              "      <td>141530.000000</td>\n",
              "      <td>141530.0</td>\n",
              "      <td>141530.0</td>\n",
              "      <td>141530.0</td>\n",
              "      <td>141530.0</td>\n",
              "      <td>1.415300e+05</td>\n",
              "      <td>1.415300e+05</td>\n",
              "      <td>1.415300e+05</td>\n",
              "      <td>1.415300e+05</td>\n",
              "    </tr>\n",
              "    <tr>\n",
              "      <th>mean</th>\n",
              "      <td>38450.268819</td>\n",
              "      <td>18124.647333</td>\n",
              "      <td>10.350427</td>\n",
              "      <td>2.081280e+07</td>\n",
              "      <td>152.800749</td>\n",
              "      <td>154.642062</td>\n",
              "      <td>1.126211e+05</td>\n",
              "      <td>1.304530e+05</td>\n",
              "      <td>208.920420</td>\n",
              "      <td>15.617078</td>\n",
              "      <td>69.594959</td>\n",
              "      <td>63.974203</td>\n",
              "      <td>229.971299</td>\n",
              "      <td>41.252194</td>\n",
              "      <td>107.286657</td>\n",
              "      <td>65.183434</td>\n",
              "      <td>inf</td>\n",
              "      <td>inf</td>\n",
              "      <td>2.604871e+06</td>\n",
              "      <td>3.217701e+06</td>\n",
              "      <td>9.893961e+06</td>\n",
              "      <td>9.079030e+05</td>\n",
              "      <td>1.976846e+07</td>\n",
              "      <td>4.101510e+06</td>\n",
              "      <td>2.590150e+06</td>\n",
              "      <td>9.198071e+06</td>\n",
              "      <td>2.481004e+06</td>\n",
              "      <td>1.663278e+07</td>\n",
              "      <td>3.054588e+06</td>\n",
              "      <td>2.205417e+06</td>\n",
              "      <td>7.408141e+06</td>\n",
              "      <td>1.617510e+06</td>\n",
              "      <td>0.099562</td>\n",
              "      <td>0.0</td>\n",
              "      <td>0.0</td>\n",
              "      <td>0.0</td>\n",
              "      <td>2.933009e+03</td>\n",
              "      <td>3.099272e+03</td>\n",
              "      <td>6.321814e+03</td>\n",
              "      <td>4574.665230</td>\n",
              "      <td>14.365604</td>\n",
              "      <td>323.627316</td>\n",
              "      <td>94.373958</td>\n",
              "      <td>108.474093</td>\n",
              "      <td>5.488104e+04</td>\n",
              "      <td>0.455691</td>\n",
              "      <td>0.462284</td>\n",
              "      <td>0.038571</td>\n",
              "      <td>61.523168</td>\n",
              "      <td>268.251749</td>\n",
              "      <td>0.0</td>\n",
              "      <td>0.0</td>\n",
              "      <td>0.0</td>\n",
              "      <td>0.607214</td>\n",
              "      <td>108.900008</td>\n",
              "      <td>69.594959</td>\n",
              "      <td>107.286657</td>\n",
              "      <td>0.0</td>\n",
              "      <td>0.0</td>\n",
              "      <td>0.0</td>\n",
              "      <td>0.0</td>\n",
              "      <td>158.869455</td>\n",
              "      <td>4.521801e+04</td>\n",
              "      <td>0.286745</td>\n",
              "      <td>43.128022</td>\n",
              "      <td>0.0</td>\n",
              "      <td>55.488568</td>\n",
              "      <td>5308.189670</td>\n",
              "      <td>1766.762411</td>\n",
              "      <td>96.881573</td>\n",
              "      <td>15.808182</td>\n",
              "      <td>0.0</td>\n",
              "      <td>0.0</td>\n",
              "      <td>0.0</td>\n",
              "      <td>0.0</td>\n",
              "      <td>7.028030e+14</td>\n",
              "      <td>5.526137e+13</td>\n",
              "      <td>7.305885e+14</td>\n",
              "      <td>5.994078e+14</td>\n",
              "    </tr>\n",
              "    <tr>\n",
              "      <th>std</th>\n",
              "      <td>19124.801990</td>\n",
              "      <td>22202.197159</td>\n",
              "      <td>5.431807</td>\n",
              "      <td>3.809155e+07</td>\n",
              "      <td>2378.323352</td>\n",
              "      <td>3418.715287</td>\n",
              "      <td>3.251357e+06</td>\n",
              "      <td>4.566180e+06</td>\n",
              "      <td>649.432333</td>\n",
              "      <td>31.312298</td>\n",
              "      <td>219.965954</td>\n",
              "      <td>168.646012</td>\n",
              "      <td>786.736861</td>\n",
              "      <td>100.785013</td>\n",
              "      <td>240.511916</td>\n",
              "      <td>193.995126</td>\n",
              "      <td>NaN</td>\n",
              "      <td>NaN</td>\n",
              "      <td>7.124917e+06</td>\n",
              "      <td>7.753864e+06</td>\n",
              "      <td>1.968518e+07</td>\n",
              "      <td>5.665210e+06</td>\n",
              "      <td>3.765663e+07</td>\n",
              "      <td>1.145549e+07</td>\n",
              "      <td>7.138834e+06</td>\n",
              "      <td>1.921286e+07</td>\n",
              "      <td>1.049675e+07</td>\n",
              "      <td>3.590770e+07</td>\n",
              "      <td>1.036402e+07</td>\n",
              "      <td>6.824438e+06</td>\n",
              "      <td>1.801633e+07</td>\n",
              "      <td>9.098340e+06</td>\n",
              "      <td>0.299416</td>\n",
              "      <td>0.0</td>\n",
              "      <td>0.0</td>\n",
              "      <td>0.0</td>\n",
              "      <td>4.752686e+04</td>\n",
              "      <td>6.995175e+04</td>\n",
              "      <td>3.558899e+04</td>\n",
              "      <td>21380.969146</td>\n",
              "      <td>23.951595</td>\n",
              "      <td>966.025271</td>\n",
              "      <td>190.563975</td>\n",
              "      <td>207.640840</td>\n",
              "      <td>7.933552e+05</td>\n",
              "      <td>0.556133</td>\n",
              "      <td>0.844423</td>\n",
              "      <td>0.342543</td>\n",
              "      <td>807.239077</td>\n",
              "      <td>5342.816116</td>\n",
              "      <td>0.0</td>\n",
              "      <td>0.0</td>\n",
              "      <td>0.0</td>\n",
              "      <td>12.497544</td>\n",
              "      <td>197.306424</td>\n",
              "      <td>219.965954</td>\n",
              "      <td>240.511916</td>\n",
              "      <td>0.0</td>\n",
              "      <td>0.0</td>\n",
              "      <td>0.0</td>\n",
              "      <td>0.0</td>\n",
              "      <td>3042.371342</td>\n",
              "      <td>1.046669e+06</td>\n",
              "      <td>0.452243</td>\n",
              "      <td>137.725733</td>\n",
              "      <td>0.0</td>\n",
              "      <td>134.367698</td>\n",
              "      <td>9895.622577</td>\n",
              "      <td>7563.995687</td>\n",
              "      <td>1582.814902</td>\n",
              "      <td>7.110714</td>\n",
              "      <td>0.0</td>\n",
              "      <td>0.0</td>\n",
              "      <td>0.0</td>\n",
              "      <td>0.0</td>\n",
              "      <td>7.058710e+14</td>\n",
              "      <td>1.930165e+14</td>\n",
              "      <td>7.248202e+14</td>\n",
              "      <td>7.138287e+14</td>\n",
              "    </tr>\n",
              "    <tr>\n",
              "      <th>min</th>\n",
              "      <td>0.000000</td>\n",
              "      <td>0.000000</td>\n",
              "      <td>0.000000</td>\n",
              "      <td>0.000000e+00</td>\n",
              "      <td>1.000000</td>\n",
              "      <td>0.000000</td>\n",
              "      <td>0.000000e+00</td>\n",
              "      <td>0.000000e+00</td>\n",
              "      <td>0.000000</td>\n",
              "      <td>0.000000</td>\n",
              "      <td>0.000000</td>\n",
              "      <td>0.000000</td>\n",
              "      <td>0.000000</td>\n",
              "      <td>0.000000</td>\n",
              "      <td>0.000000</td>\n",
              "      <td>0.000000</td>\n",
              "      <td>0.000000e+00</td>\n",
              "      <td>1.666866e-02</td>\n",
              "      <td>0.000000e+00</td>\n",
              "      <td>0.000000e+00</td>\n",
              "      <td>0.000000e+00</td>\n",
              "      <td>-2.255000e+03</td>\n",
              "      <td>0.000000e+00</td>\n",
              "      <td>0.000000e+00</td>\n",
              "      <td>0.000000e+00</td>\n",
              "      <td>0.000000e+00</td>\n",
              "      <td>-4.580000e+02</td>\n",
              "      <td>0.000000e+00</td>\n",
              "      <td>0.000000e+00</td>\n",
              "      <td>0.000000e+00</td>\n",
              "      <td>0.000000e+00</td>\n",
              "      <td>-4.450000e+02</td>\n",
              "      <td>0.000000</td>\n",
              "      <td>0.0</td>\n",
              "      <td>0.0</td>\n",
              "      <td>0.0</td>\n",
              "      <td>0.000000e+00</td>\n",
              "      <td>0.000000e+00</td>\n",
              "      <td>0.000000e+00</td>\n",
              "      <td>0.000000</td>\n",
              "      <td>0.000000</td>\n",
              "      <td>0.000000</td>\n",
              "      <td>0.000000</td>\n",
              "      <td>0.000000</td>\n",
              "      <td>0.000000e+00</td>\n",
              "      <td>0.000000</td>\n",
              "      <td>0.000000</td>\n",
              "      <td>0.000000</td>\n",
              "      <td>0.000000</td>\n",
              "      <td>0.000000</td>\n",
              "      <td>0.0</td>\n",
              "      <td>0.0</td>\n",
              "      <td>0.0</td>\n",
              "      <td>0.000000</td>\n",
              "      <td>0.000000</td>\n",
              "      <td>0.000000</td>\n",
              "      <td>0.000000</td>\n",
              "      <td>0.0</td>\n",
              "      <td>0.0</td>\n",
              "      <td>0.0</td>\n",
              "      <td>0.0</td>\n",
              "      <td>0.000000</td>\n",
              "      <td>0.000000e+00</td>\n",
              "      <td>0.000000</td>\n",
              "      <td>0.000000</td>\n",
              "      <td>0.0</td>\n",
              "      <td>0.000000</td>\n",
              "      <td>0.000000</td>\n",
              "      <td>0.000000</td>\n",
              "      <td>0.000000</td>\n",
              "      <td>0.000000</td>\n",
              "      <td>0.0</td>\n",
              "      <td>0.0</td>\n",
              "      <td>0.0</td>\n",
              "      <td>0.0</td>\n",
              "      <td>0.000000e+00</td>\n",
              "      <td>0.000000e+00</td>\n",
              "      <td>0.000000e+00</td>\n",
              "      <td>0.000000e+00</td>\n",
              "    </tr>\n",
              "    <tr>\n",
              "      <th>25%</th>\n",
              "      <td>32425.500000</td>\n",
              "      <td>80.000000</td>\n",
              "      <td>6.000000</td>\n",
              "      <td>1.778100e+04</td>\n",
              "      <td>1.000000</td>\n",
              "      <td>0.000000</td>\n",
              "      <td>0.000000e+00</td>\n",
              "      <td>0.000000e+00</td>\n",
              "      <td>0.000000</td>\n",
              "      <td>0.000000</td>\n",
              "      <td>0.000000</td>\n",
              "      <td>0.000000</td>\n",
              "      <td>0.000000</td>\n",
              "      <td>0.000000</td>\n",
              "      <td>0.000000</td>\n",
              "      <td>0.000000</td>\n",
              "      <td>0.000000e+00</td>\n",
              "      <td>6.411654e-01</td>\n",
              "      <td>3.021500e+03</td>\n",
              "      <td>0.000000e+00</td>\n",
              "      <td>1.690825e+04</td>\n",
              "      <td>1.600000e+01</td>\n",
              "      <td>0.000000e+00</td>\n",
              "      <td>0.000000e+00</td>\n",
              "      <td>0.000000e+00</td>\n",
              "      <td>0.000000e+00</td>\n",
              "      <td>0.000000e+00</td>\n",
              "      <td>0.000000e+00</td>\n",
              "      <td>0.000000e+00</td>\n",
              "      <td>0.000000e+00</td>\n",
              "      <td>0.000000e+00</td>\n",
              "      <td>0.000000e+00</td>\n",
              "      <td>0.000000</td>\n",
              "      <td>0.0</td>\n",
              "      <td>0.0</td>\n",
              "      <td>0.0</td>\n",
              "      <td>1.600000e+01</td>\n",
              "      <td>0.000000e+00</td>\n",
              "      <td>3.798137e-01</td>\n",
              "      <td>0.000000</td>\n",
              "      <td>0.000000</td>\n",
              "      <td>0.000000</td>\n",
              "      <td>0.000000</td>\n",
              "      <td>0.000000</td>\n",
              "      <td>0.000000e+00</td>\n",
              "      <td>0.000000</td>\n",
              "      <td>0.000000</td>\n",
              "      <td>0.000000</td>\n",
              "      <td>0.000000</td>\n",
              "      <td>0.000000</td>\n",
              "      <td>0.0</td>\n",
              "      <td>0.0</td>\n",
              "      <td>0.0</td>\n",
              "      <td>0.000000</td>\n",
              "      <td>0.000000</td>\n",
              "      <td>0.000000</td>\n",
              "      <td>0.000000</td>\n",
              "      <td>0.0</td>\n",
              "      <td>0.0</td>\n",
              "      <td>0.0</td>\n",
              "      <td>0.0</td>\n",
              "      <td>0.000000</td>\n",
              "      <td>0.000000e+00</td>\n",
              "      <td>0.000000</td>\n",
              "      <td>0.000000</td>\n",
              "      <td>0.0</td>\n",
              "      <td>0.000000</td>\n",
              "      <td>0.000000</td>\n",
              "      <td>0.000000</td>\n",
              "      <td>0.000000</td>\n",
              "      <td>8.000000</td>\n",
              "      <td>0.0</td>\n",
              "      <td>0.0</td>\n",
              "      <td>0.0</td>\n",
              "      <td>0.0</td>\n",
              "      <td>0.000000e+00</td>\n",
              "      <td>0.000000e+00</td>\n",
              "      <td>0.000000e+00</td>\n",
              "      <td>0.000000e+00</td>\n",
              "    </tr>\n",
              "    <tr>\n",
              "      <th>50%</th>\n",
              "      <td>43528.000000</td>\n",
              "      <td>5355.000000</td>\n",
              "      <td>6.000000</td>\n",
              "      <td>4.162820e+05</td>\n",
              "      <td>2.000000</td>\n",
              "      <td>1.000000</td>\n",
              "      <td>4.400000e+01</td>\n",
              "      <td>0.000000e+00</td>\n",
              "      <td>34.000000</td>\n",
              "      <td>0.000000</td>\n",
              "      <td>22.666667</td>\n",
              "      <td>0.000000</td>\n",
              "      <td>0.000000</td>\n",
              "      <td>0.000000</td>\n",
              "      <td>0.000000</td>\n",
              "      <td>0.000000</td>\n",
              "      <td>7.407686e+01</td>\n",
              "      <td>7.296616e+00</td>\n",
              "      <td>2.071620e+05</td>\n",
              "      <td>1.297621e+04</td>\n",
              "      <td>4.114095e+05</td>\n",
              "      <td>1.660000e+02</td>\n",
              "      <td>2.476785e+05</td>\n",
              "      <td>6.889431e+04</td>\n",
              "      <td>0.000000e+00</td>\n",
              "      <td>1.932950e+05</td>\n",
              "      <td>7.100000e+01</td>\n",
              "      <td>0.000000e+00</td>\n",
              "      <td>0.000000e+00</td>\n",
              "      <td>0.000000e+00</td>\n",
              "      <td>0.000000e+00</td>\n",
              "      <td>0.000000e+00</td>\n",
              "      <td>0.000000</td>\n",
              "      <td>0.0</td>\n",
              "      <td>0.0</td>\n",
              "      <td>0.0</td>\n",
              "      <td>4.000000e+01</td>\n",
              "      <td>1.600000e+01</td>\n",
              "      <td>4.869865e+00</td>\n",
              "      <td>0.713498</td>\n",
              "      <td>0.000000</td>\n",
              "      <td>59.000000</td>\n",
              "      <td>28.363636</td>\n",
              "      <td>9.237604</td>\n",
              "      <td>8.533333e+01</td>\n",
              "      <td>0.000000</td>\n",
              "      <td>0.000000</td>\n",
              "      <td>0.000000</td>\n",
              "      <td>0.000000</td>\n",
              "      <td>2.000000</td>\n",
              "      <td>0.0</td>\n",
              "      <td>0.0</td>\n",
              "      <td>0.0</td>\n",
              "      <td>1.000000</td>\n",
              "      <td>33.000000</td>\n",
              "      <td>22.666667</td>\n",
              "      <td>0.000000</td>\n",
              "      <td>0.0</td>\n",
              "      <td>0.0</td>\n",
              "      <td>0.0</td>\n",
              "      <td>0.0</td>\n",
              "      <td>0.000000</td>\n",
              "      <td>0.000000e+00</td>\n",
              "      <td>0.000000</td>\n",
              "      <td>18.000000</td>\n",
              "      <td>0.0</td>\n",
              "      <td>0.000000</td>\n",
              "      <td>913.000000</td>\n",
              "      <td>0.000000</td>\n",
              "      <td>1.000000</td>\n",
              "      <td>20.000000</td>\n",
              "      <td>0.0</td>\n",
              "      <td>0.0</td>\n",
              "      <td>0.0</td>\n",
              "      <td>0.0</td>\n",
              "      <td>7.281250e+14</td>\n",
              "      <td>0.000000e+00</td>\n",
              "      <td>1.427730e+15</td>\n",
              "      <td>5.584614e+06</td>\n",
              "    </tr>\n",
              "    <tr>\n",
              "      <th>75%</th>\n",
              "      <td>53338.000000</td>\n",
              "      <td>40020.000000</td>\n",
              "      <td>17.000000</td>\n",
              "      <td>1.181470e+07</td>\n",
              "      <td>4.000000</td>\n",
              "      <td>3.000000</td>\n",
              "      <td>2.160000e+02</td>\n",
              "      <td>2.160000e+02</td>\n",
              "      <td>103.000000</td>\n",
              "      <td>31.000000</td>\n",
              "      <td>45.000000</td>\n",
              "      <td>39.259818</td>\n",
              "      <td>213.000000</td>\n",
              "      <td>0.000000</td>\n",
              "      <td>96.969207</td>\n",
              "      <td>11.313709</td>\n",
              "      <td>9.908260e+02</td>\n",
              "      <td>4.006812e+02</td>\n",
              "      <td>1.882400e+06</td>\n",
              "      <td>2.213250e+06</td>\n",
              "      <td>7.210274e+06</td>\n",
              "      <td>1.291208e+05</td>\n",
              "      <td>9.743915e+06</td>\n",
              "      <td>2.682830e+06</td>\n",
              "      <td>1.436683e+06</td>\n",
              "      <td>6.323130e+06</td>\n",
              "      <td>1.024112e+05</td>\n",
              "      <td>1.321916e+06</td>\n",
              "      <td>1.860442e+05</td>\n",
              "      <td>4.591965e+04</td>\n",
              "      <td>7.335540e+05</td>\n",
              "      <td>3.400000e+01</td>\n",
              "      <td>0.000000</td>\n",
              "      <td>0.0</td>\n",
              "      <td>0.0</td>\n",
              "      <td>0.0</td>\n",
              "      <td>9.200000e+01</td>\n",
              "      <td>7.200000e+01</td>\n",
              "      <td>2.807026e+02</td>\n",
              "      <td>37.106760</td>\n",
              "      <td>29.000000</td>\n",
              "      <td>345.000000</td>\n",
              "      <td>95.837366</td>\n",
              "      <td>118.472453</td>\n",
              "      <td>1.403572e+04</td>\n",
              "      <td>1.000000</td>\n",
              "      <td>0.000000</td>\n",
              "      <td>0.000000</td>\n",
              "      <td>2.000000</td>\n",
              "      <td>6.000000</td>\n",
              "      <td>0.0</td>\n",
              "      <td>0.0</td>\n",
              "      <td>0.0</td>\n",
              "      <td>1.000000</td>\n",
              "      <td>141.783730</td>\n",
              "      <td>45.000000</td>\n",
              "      <td>96.969207</td>\n",
              "      <td>0.0</td>\n",
              "      <td>0.0</td>\n",
              "      <td>0.0</td>\n",
              "      <td>0.0</td>\n",
              "      <td>0.000000</td>\n",
              "      <td>0.000000e+00</td>\n",
              "      <td>1.000000</td>\n",
              "      <td>23.000000</td>\n",
              "      <td>0.0</td>\n",
              "      <td>47.000000</td>\n",
              "      <td>14348.000000</td>\n",
              "      <td>1047.000000</td>\n",
              "      <td>2.000000</td>\n",
              "      <td>20.000000</td>\n",
              "      <td>0.0</td>\n",
              "      <td>0.0</td>\n",
              "      <td>0.0</td>\n",
              "      <td>0.0</td>\n",
              "      <td>1.456260e+15</td>\n",
              "      <td>1.031457e+07</td>\n",
              "      <td>1.456320e+15</td>\n",
              "      <td>1.456260e+15</td>\n",
              "    </tr>\n",
              "    <tr>\n",
              "      <th>max</th>\n",
              "      <td>65534.000000</td>\n",
              "      <td>65535.000000</td>\n",
              "      <td>17.000000</td>\n",
              "      <td>1.200000e+08</td>\n",
              "      <td>238161.000000</td>\n",
              "      <td>470862.000000</td>\n",
              "      <td>7.693074e+08</td>\n",
              "      <td>6.704287e+08</td>\n",
              "      <td>64240.000000</td>\n",
              "      <td>1350.000000</td>\n",
              "      <td>28502.368970</td>\n",
              "      <td>15870.122980</td>\n",
              "      <td>48168.000000</td>\n",
              "      <td>1350.000000</td>\n",
              "      <td>9901.912706</td>\n",
              "      <td>11469.193480</td>\n",
              "      <td>inf</td>\n",
              "      <td>inf</td>\n",
              "      <td>1.199856e+08</td>\n",
              "      <td>8.477462e+07</td>\n",
              "      <td>1.199994e+08</td>\n",
              "      <td>1.199856e+08</td>\n",
              "      <td>1.200000e+08</td>\n",
              "      <td>1.199997e+08</td>\n",
              "      <td>8.483684e+07</td>\n",
              "      <td>1.199997e+08</td>\n",
              "      <td>1.199997e+08</td>\n",
              "      <td>1.200000e+08</td>\n",
              "      <td>1.198065e+08</td>\n",
              "      <td>8.480719e+07</td>\n",
              "      <td>1.199657e+08</td>\n",
              "      <td>1.198065e+08</td>\n",
              "      <td>1.000000</td>\n",
              "      <td>0.0</td>\n",
              "      <td>0.0</td>\n",
              "      <td>0.0</td>\n",
              "      <td>4.768644e+06</td>\n",
              "      <td>9.417240e+06</td>\n",
              "      <td>2.000000e+06</td>\n",
              "      <td>1000000.000000</td>\n",
              "      <td>1350.000000</td>\n",
              "      <td>64240.000000</td>\n",
              "      <td>6647.070671</td>\n",
              "      <td>12617.095490</td>\n",
              "      <td>1.591911e+08</td>\n",
              "      <td>2.000000</td>\n",
              "      <td>7.000000</td>\n",
              "      <td>71.000000</td>\n",
              "      <td>48025.000000</td>\n",
              "      <td>709023.000000</td>\n",
              "      <td>0.0</td>\n",
              "      <td>0.0</td>\n",
              "      <td>0.0</td>\n",
              "      <td>4266.000000</td>\n",
              "      <td>6647.188377</td>\n",
              "      <td>28502.368970</td>\n",
              "      <td>9901.912706</td>\n",
              "      <td>0.0</td>\n",
              "      <td>0.0</td>\n",
              "      <td>0.0</td>\n",
              "      <td>0.0</td>\n",
              "      <td>470862.000000</td>\n",
              "      <td>1.515741e+08</td>\n",
              "      <td>1.000000</td>\n",
              "      <td>6644.000000</td>\n",
              "      <td>0.0</td>\n",
              "      <td>4872.000000</td>\n",
              "      <td>65535.000000</td>\n",
              "      <td>65535.000000</td>\n",
              "      <td>113325.000000</td>\n",
              "      <td>44.000000</td>\n",
              "      <td>0.0</td>\n",
              "      <td>0.0</td>\n",
              "      <td>0.0</td>\n",
              "      <td>0.0</td>\n",
              "      <td>1.460000e+15</td>\n",
              "      <td>1.030000e+15</td>\n",
              "      <td>1.460000e+15</td>\n",
              "      <td>1.460000e+15</td>\n",
              "    </tr>\n",
              "  </tbody>\n",
              "</table>\n",
              "</div>"
            ],
            "text/plain": [
              "            Src Port       Dst Port  ...      Idle Max      Idle Min\n",
              "count  141530.000000  141530.000000  ...  1.415300e+05  1.415300e+05\n",
              "mean    38450.268819   18124.647333  ...  7.305885e+14  5.994078e+14\n",
              "std     19124.801990   22202.197159  ...  7.248202e+14  7.138287e+14\n",
              "min         0.000000       0.000000  ...  0.000000e+00  0.000000e+00\n",
              "25%     32425.500000      80.000000  ...  0.000000e+00  0.000000e+00\n",
              "50%     43528.000000    5355.000000  ...  1.427730e+15  5.584614e+06\n",
              "75%     53338.000000   40020.000000  ...  1.456320e+15  1.456260e+15\n",
              "max     65534.000000   65535.000000  ...  1.460000e+15  1.460000e+15\n",
              "\n",
              "[8 rows x 79 columns]"
            ]
          },
          "metadata": {
            "tags": []
          },
          "execution_count": 10
        }
      ]
    },
    {
      "cell_type": "code",
      "metadata": {
        "id": "4UGhwIut2sbA",
        "colab": {
          "base_uri": "https://localhost:8080/"
        },
        "outputId": "b932d8ee-1da7-4692-958c-02fc377e75ff"
      },
      "source": [
        "# Let's see what we will be categorizing data into\n",
        "print(df.groupby('Label').size())"
      ],
      "execution_count": 11,
      "outputs": [
        {
          "output_type": "stream",
          "text": [
            "Label\n",
            "Non-Tor    93356\n",
            "NonVPN     23863\n",
            "Tor         1392\n",
            "VPN        22919\n",
            "dtype: int64\n"
          ],
          "name": "stdout"
        }
      ]
    },
    {
      "cell_type": "code",
      "metadata": {
        "id": "N-y0M3Li22mi",
        "colab": {
          "base_uri": "https://localhost:8080/"
        },
        "outputId": "c96a3380-fffe-4eee-92d2-7ec8a0cec360"
      },
      "source": [
        "print(df.groupby('Label1').size())"
      ],
      "execution_count": 12,
      "outputs": [
        {
          "output_type": "stream",
          "text": [
            "Label1\n",
            "AUDIO-STREAMING     1484\n",
            "Audio-Streaming    16580\n",
            "Browsing           32808\n",
            "Chat               11478\n",
            "Email               6145\n",
            "File-Transfer      11098\n",
            "File-transfer         84\n",
            "P2P                48520\n",
            "VOIP                3566\n",
            "Video-Streaming     9486\n",
            "Video-streaming      281\n",
            "dtype: int64\n"
          ],
          "name": "stdout"
        }
      ]
    },
    {
      "cell_type": "markdown",
      "metadata": {
        "id": "xgCXeUN2608r"
      },
      "source": [
        "## Cleaning Data\n",
        "\n",
        "### Options with cleaning data (add to list if think of something)\n",
        "\n",
        "* #### $X^2$ test would be **SUPER helpful**\n",
        "  * Basically a chi squared tells us what columns are effective with our machine learning algorithms later\n",
        "  * If col isn't helpful, we can remove those columns from our data to make the algorithms later faster\n",
        "* #### Label encoding\n",
        "  * We aren't working with strings, just integers\n",
        "  * We have a lot of IP addresses and other strings\n",
        "  * Would run much faster if we can convert those to unique integers with a key\n",
        "* #### Put ideas here"
      ]
    },
    {
      "cell_type": "markdown",
      "metadata": {
        "id": "pYTRoevgf0M8"
      },
      "source": [
        "### First Approach\n",
        "\n",
        "There are misspelling of data in Label1, so here we fix that. After that, we want relabel the classifing columns so it's easier to understand. "
      ]
    },
    {
      "cell_type": "code",
      "metadata": {
        "id": "CSJbJGQg67JU",
        "colab": {
          "base_uri": "https://localhost:8080/"
        },
        "outputId": "3799e225-2374-4f2b-d8ca-c7f3230a9795"
      },
      "source": [
        "# Fixing misspelled data in Label1 column\n",
        "\n",
        "df['Label1'] = df['Label1'].str.lower()\n",
        "df.Label1.unique()"
      ],
      "execution_count": 13,
      "outputs": [
        {
          "output_type": "execute_result",
          "data": {
            "text/plain": [
              "array(['audio-streaming', 'browsing', 'chat', 'email', 'file-transfer',\n",
              "       'p2p', 'video-streaming', 'voip'], dtype=object)"
            ]
          },
          "metadata": {
            "tags": []
          },
          "execution_count": 13
        }
      ]
    },
    {
      "cell_type": "markdown",
      "metadata": {
        "id": "AhvjG2OOqW7Z"
      },
      "source": [
        "If a column has only one unique value, we don't need to keep that. Here is how we removed those."
      ]
    },
    {
      "cell_type": "code",
      "metadata": {
        "id": "ZKLgyzAlfj0m",
        "colab": {
          "base_uri": "https://localhost:8080/"
        },
        "outputId": "9877a994-ea53-4c28-ba1a-3004574b213e"
      },
      "source": [
        "def DropSingleValueColumns():\n",
        "    threshold = 1\n",
        "    # get number of unique values for each column\n",
        "    print(df.shape)\n",
        "    for col in df.columns:  # Loop through columns\n",
        "        if len(df[col].unique()) <= threshold:  # Find unique values in column along with their length and if len is == 1 then it contains same values\n",
        "            df.drop([col], axis=1, inplace=True)  # Drop the column\n",
        "    print(df.shape)\n",
        "\n",
        "DropSingleValueColumns()"
      ],
      "execution_count": 14,
      "outputs": [
        {
          "output_type": "stream",
          "text": [
            "(141530, 84)\n",
            "(141530, 69)\n"
          ],
          "name": "stdout"
        }
      ]
    },
    {
      "cell_type": "markdown",
      "metadata": {
        "id": "prhlsRcbhYy6"
      },
      "source": [
        "Next, we removed duplicated rows."
      ]
    },
    {
      "cell_type": "code",
      "metadata": {
        "id": "dC7bne8XhO4f",
        "colab": {
          "base_uri": "https://localhost:8080/"
        },
        "outputId": "60455c7b-e740-477e-d023-215f62c16648"
      },
      "source": [
        "# See if rows has duplicate data\n",
        "df.drop_duplicates(inplace=True)\n",
        "print(df.shape)"
      ],
      "execution_count": 15,
      "outputs": [
        {
          "output_type": "stream",
          "text": [
            "(117048, 69)\n"
          ],
          "name": "stdout"
        }
      ]
    },
    {
      "cell_type": "markdown",
      "metadata": {
        "id": "WriR5_2Cl6Hq"
      },
      "source": [
        "Now, we will remove strings, nan and inf values.\n"
      ]
    },
    {
      "cell_type": "code",
      "metadata": {
        "id": "SUDxfl-Gl8wG",
        "colab": {
          "base_uri": "https://localhost:8080/"
        },
        "outputId": "52678283-61ca-4700-91d0-ce6a9f084f13"
      },
      "source": [
        "df = df.replace([np.inf, -np.inf], np.nan)\n",
        "df = df.dropna()\n",
        "\n",
        "print(df.shape)"
      ],
      "execution_count": 16,
      "outputs": [
        {
          "output_type": "stream",
          "text": [
            "(116999, 69)\n"
          ],
          "name": "stdout"
        }
      ]
    },
    {
      "cell_type": "markdown",
      "metadata": {
        "id": "C16hEogJHLtI"
      },
      "source": [
        "### $X^2$ Test"
      ]
    },
    {
      "cell_type": "code",
      "metadata": {
        "id": "1JkohHbgGe_q",
        "colab": {
          "base_uri": "https://localhost:8080/"
        },
        "outputId": "29ed721f-3d39-4238-a6fe-692c3480a624"
      },
      "source": [
        "# Import for normalization\n",
        "from sklearn.preprocessing import MinMaxScaler\n",
        "# Import chi2 function \n",
        "from sklearn.feature_selection import chi2\n",
        "print(\"Chi^2 imports complete\")"
      ],
      "execution_count": 17,
      "outputs": [
        {
          "output_type": "stream",
          "text": [
            "Chi^2 imports complete\n"
          ],
          "name": "stdout"
        }
      ]
    },
    {
      "cell_type": "markdown",
      "metadata": {
        "id": "gXSV9xEnfT4h"
      },
      "source": [
        "# Feature Selection\n",
        "\n",
        "First off, we will start by creating our 'y' variable which will be used in classification. Our 'y' will contain information on whether the data is Darknet or Non-Darknet."
      ]
    },
    {
      "cell_type": "markdown",
      "metadata": {
        "id": "2z_Y1mT-V3NY"
      },
      "source": [
        "The data has classifications for Non-Tor or Tor combined with Non-VPN or VPN. When trying to classify what sort of traffic is in darknet, we want to combine VPN and Tor as \"Darknet\" with the rest being \"Non-Darknet\"."
      ]
    },
    {
      "cell_type": "code",
      "metadata": {
        "id": "C_oZB9YcWMQM",
        "colab": {
          "base_uri": "https://localhost:8080/"
        },
        "outputId": "b88b11f6-8a23-4472-d23a-9f4530657fa9"
      },
      "source": [
        "# We can use the 'apply' function in pandas to do this really easily\n",
        "\n",
        "df['Label_dark'] = df['Label'].apply(lambda x: '1' if x == 'VPN' or \n",
        "                                     x == 'Tor' else '0')\n",
        "\n",
        "y = df.Label_dark\n",
        "y.unique()"
      ],
      "execution_count": 18,
      "outputs": [
        {
          "output_type": "execute_result",
          "data": {
            "text/plain": [
              "array(['0', '1'], dtype=object)"
            ]
          },
          "metadata": {
            "tags": []
          },
          "execution_count": 18
        }
      ]
    },
    {
      "cell_type": "code",
      "metadata": {
        "id": "H6K9uiWpRffZ"
      },
      "source": [
        "# Now, we are grabbing the column names to use as our X\n",
        "\n",
        "X = df.columns.tolist()"
      ],
      "execution_count": 19,
      "outputs": []
    },
    {
      "cell_type": "markdown",
      "metadata": {
        "id": "-Pi6s2mP3kGC"
      },
      "source": [
        "# Visualization of Data"
      ]
    },
    {
      "cell_type": "code",
      "metadata": {
        "id": "SXPGCk4O15zL"
      },
      "source": [
        "import numpy as np\n",
        "import matplotlib.pyplot as plt\n",
        "import seaborn as sns\n",
        "import pandas_profiling\n",
        "%matplotlib inline"
      ],
      "execution_count": 20,
      "outputs": []
    },
    {
      "cell_type": "code",
      "metadata": {
        "id": "j2zkzaRb31Ob"
      },
      "source": [
        "# # Creating pandas series for count of labels\n",
        "# label_count = df.Label.value_counts()\n",
        "\n",
        "# # Now plotting the count\n",
        "# plt.figure(figsize=(10,8))\n",
        "# sns.set_style('whitegrid')\n",
        "# plt.title('Types of Traffic In Dataset')\n",
        "# sns.barplot(x=label_count.index, y=label_count)\n",
        "# plt.ylabel('Count')\n",
        "# plt.xlabel('Type of Traffic')"
      ],
      "execution_count": 21,
      "outputs": []
    },
    {
      "cell_type": "code",
      "metadata": {
        "colab": {
          "base_uri": "https://localhost:8080/",
          "height": 422
        },
        "id": "T1tr2Co0YAik",
        "outputId": "86f47b32-c578-448b-d88f-06fc6a5d8d70"
      },
      "source": [
        "# Creating pandas series for count of label1\n",
        "\n",
        "label3_count = df.Label_dark.value_counts()\n",
        "label3_count\n",
        "\n",
        "plt.figure(figsize=(6,6))\n",
        "sns.set_style('whitegrid')\n",
        "plt.title('Where Traffic Happened')\n",
        "sns.barplot(x=label3_count.index, y=label3_count)\n",
        "plt.ylabel('Count')\n",
        "plt.xlabel('Type of Traffic')"
      ],
      "execution_count": 22,
      "outputs": [
        {
          "output_type": "execute_result",
          "data": {
            "text/plain": [
              "Text(0.5, 0, 'Type of Traffic')"
            ]
          },
          "metadata": {
            "tags": []
          },
          "execution_count": 22
        },
        {
          "output_type": "display_data",
          "data": {
            "image/png": "[encoded data removed]",
            "text/plain": [
              "<Figure size 432x432 with 1 Axes>"
            ]
          },
          "metadata": {
            "tags": [],
            "needs_background": "light"
          }
        }
      ]
    },
    {
      "cell_type": "code",
      "metadata": {
        "id": "tOeH5toIj_mA",
        "colab": {
          "base_uri": "https://localhost:8080/",
          "height": 531
        },
        "outputId": "0ac0e465-9d7f-4d10-9aad-9a2d47f704cc"
      },
      "source": [
        "# Creating pandas series for count of label1\n",
        "label1_count = df.Label1.value_counts()\n",
        "label1_count\n",
        "\n",
        "plt.figure(figsize=(12,8))\n",
        "sns.set_style('whitegrid')\n",
        "plt.title('Categories Where Traffic Went')\n",
        "sns.barplot(x=label1_count.index, y=label1_count)\n",
        "plt.ylabel('Count')\n",
        "plt.xlabel('Type of Traffic')"
      ],
      "execution_count": 23,
      "outputs": [
        {
          "output_type": "execute_result",
          "data": {
            "text/plain": [
              "Text(0.5, 0, 'Type of Traffic')"
            ]
          },
          "metadata": {
            "tags": []
          },
          "execution_count": 23
        },
        {
          "output_type": "display_data",
          "data": {
            "image/png": "[encoded data removed]",
            "text/plain": [
              "<Figure size 864x576 with 1 Axes>"
            ]
          },
          "metadata": {
            "tags": []
          }
        }
      ]
    },
    {
      "cell_type": "code",
      "metadata": {
        "colab": {
          "base_uri": "https://localhost:8080/",
          "height": 433
        },
        "id": "VOBXtQXWZ3aS",
        "outputId": "9797b697-a06a-4b8f-8143-d01716456d8c"
      },
      "source": [
        "# Group plot of traffic depending on darknet or non-darknet\n",
        "\n",
        "sns.set_style('whitegrid')\n",
        "g = sns.catplot(x='Label1', col='Label_dark',\n",
        "                data=df, kind='count', \n",
        "                height=6, aspect = 1.4)\n",
        "(g.set_axis_labels(\"Traffic Type\", \"Count\")\n",
        "  .set_titles(\"{col_name}\")\n",
        "  .set(ylim=(0,33000))\n",
        "  .despine(left=True))  "
      ],
      "execution_count": 24,
      "outputs": [
        {
          "output_type": "execute_result",
          "data": {
            "text/plain": [
              "<seaborn.axisgrid.FacetGrid at 0x7fdf45e6d5d0>"
            ]
          },
          "metadata": {
            "tags": []
          },
          "execution_count": 24
        },
        {
          "output_type": "display_data",
          "data": {
            "image/png": "[encoded data removed]",
            "text/plain": [
              "<Figure size 1209.6x432 with 2 Axes>"
            ]
          },
          "metadata": {
            "tags": []
          }
        }
      ]
    },
    {
      "cell_type": "code",
      "metadata": {
        "id": "JqFDOby1idZx",
        "colab": {
          "base_uri": "https://localhost:8080/",
          "height": 1000
        },
        "outputId": "7d588c3f-86dd-464e-886a-de656084258d"
      },
      "source": [
        "# Correllation\n",
        "\n",
        "correlation = df.corr()\n",
        "plt.figure(figsize =(30,30))\n",
        "sns.heatmap(correlation, vmax=1, square=True, cmap='YlGnBu')"
      ],
      "execution_count": 25,
      "outputs": [
        {
          "output_type": "execute_result",
          "data": {
            "text/plain": [
              "<matplotlib.axes._subplots.AxesSubplot at 0x7fdf38b18b90>"
            ]
          },
          "metadata": {
            "tags": []
          },
          "execution_count": 25
        },
        {
          "output_type": "display_data",
          "data": {
            "image/png": "[encoded data removed]",
            "text/plain": [
              "<Figure size 2160x2160 with 2 Axes>"
            ]
          },
          "metadata": {
            "tags": []
          }
        }
      ]
    },
    {
      "cell_type": "markdown",
      "metadata": {
        "id": "Q9XmEZ1_tWs7"
      },
      "source": [
        "Here we can see our data is unbalanced. We can apply SMOTE(Synthetic Minority Over-sampling Technique)to overcome this. "
      ]
    },
    {
      "cell_type": "code",
      "metadata": {
        "colab": {
          "base_uri": "https://localhost:8080/"
        },
        "id": "E2bvP9xC7-Xq",
        "outputId": "e4b3147f-6ec0-45de-e404-b214a60142db"
      },
      "source": [
        "pd.options.display.max_columns=None\n",
        "pd.options.display.max_rows=None\n",
        "df.dtypes"
      ],
      "execution_count": 42,
      "outputs": [
        {
          "output_type": "execute_result",
          "data": {
            "text/plain": [
              "Flow ID                        object\n",
              "Src IP                         object\n",
              "Src Port                        int64\n",
              "Dst IP                         object\n",
              "Dst Port                        int64\n",
              "Protocol                        int64\n",
              "Flow Duration                   int64\n",
              "Total Fwd Packet                int64\n",
              "Total Bwd packets               int64\n",
              "Total Length of Fwd Packet      int64\n",
              "Total Length of Bwd Packet      int64\n",
              "Fwd Packet Length Max           int64\n",
              "Fwd Packet Length Min           int64\n",
              "Fwd Packet Length Mean        float64\n",
              "Fwd Packet Length Std         float64\n",
              "Bwd Packet Length Max           int64\n",
              "Bwd Packet Length Min           int64\n",
              "Bwd Packet Length Mean        float64\n",
              "Bwd Packet Length Std         float64\n",
              "Flow Bytes/s                  float64\n",
              "Flow Packets/s                float64\n",
              "Flow IAT Mean                 float64\n",
              "Flow IAT Std                  float64\n",
              "Flow IAT Max                    int64\n",
              "Flow IAT Min                    int64\n",
              "Fwd IAT Total                   int64\n",
              "Fwd IAT Mean                  float64\n",
              "Fwd IAT Std                   float64\n",
              "Fwd IAT Max                     int64\n",
              "Fwd IAT Min                     int64\n",
              "Bwd IAT Total                   int64\n",
              "Bwd IAT Mean                  float64\n",
              "Bwd IAT Std                   float64\n",
              "Bwd IAT Max                     int64\n",
              "Bwd IAT Min                     int64\n",
              "Fwd PSH Flags                   int64\n",
              "Fwd Header Length               int64\n",
              "Bwd Header Length               int64\n",
              "Fwd Packets/s                 float64\n",
              "Bwd Packets/s                 float64\n",
              "Packet Length Min               int64\n",
              "Packet Length Max               int64\n",
              "Packet Length Mean            float64\n",
              "Packet Length Std             float64\n",
              "Packet Length Variance        float64\n",
              "FIN Flag Count                  int64\n",
              "SYN Flag Count                  int64\n",
              "RST Flag Count                  int64\n",
              "PSH Flag Count                  int64\n",
              "ACK Flag Count                  int64\n",
              "Down/Up Ratio                   int64\n",
              "Average Packet Size           float64\n",
              "Fwd Segment Size Avg          float64\n",
              "Bwd Segment Size Avg          float64\n",
              "Bwd Packet/Bulk Avg             int64\n",
              "Bwd Bulk Rate Avg               int64\n",
              "Subflow Fwd Packets             int64\n",
              "Subflow Fwd Bytes               int64\n",
              "Subflow Bwd Bytes               int64\n",
              "FWD Init Win Bytes              int64\n",
              "Bwd Init Win Bytes              int64\n",
              "Fwd Act Data Pkts               int64\n",
              "Fwd Seg Size Min                int64\n",
              "Idle Mean                     float64\n",
              "Idle Std                      float64\n",
              "Idle Max                      float64\n",
              "Idle Min                      float64\n",
              "Label                          object\n",
              "Label1                         object\n",
              "Label_dark                     object\n",
              "dtype: object"
            ]
          },
          "metadata": {
            "tags": []
          },
          "execution_count": 42
        }
      ]
    },
    {
      "cell_type": "code",
      "metadata": {
        "id": "8_5DBudv9Q0t"
      },
      "source": [
        "#col=['Flow ID','Src IP', 'Dst IP']\n",
        "#df.drop(col,inplace=True,axis=1)"
      ],
      "execution_count": 87,
      "outputs": []
    },
    {
      "cell_type": "code",
      "metadata": {
        "colab": {
          "base_uri": "https://localhost:8080/"
        },
        "id": "VI1x4pMH9980",
        "outputId": "de436b42-756b-473d-cae5-bb9c7490e670"
      },
      "source": [
        "df.dtypes"
      ],
      "execution_count": 88,
      "outputs": [
        {
          "output_type": "execute_result",
          "data": {
            "text/plain": [
              "Src Port                        int64\n",
              "Dst Port                        int64\n",
              "Protocol                        int64\n",
              "Flow Duration                   int64\n",
              "Total Fwd Packet                int64\n",
              "Total Bwd packets               int64\n",
              "Total Length of Fwd Packet      int64\n",
              "Total Length of Bwd Packet      int64\n",
              "Fwd Packet Length Max           int64\n",
              "Fwd Packet Length Min           int64\n",
              "Fwd Packet Length Mean        float64\n",
              "Fwd Packet Length Std         float64\n",
              "Bwd Packet Length Max           int64\n",
              "Bwd Packet Length Min           int64\n",
              "Bwd Packet Length Mean        float64\n",
              "Bwd Packet Length Std         float64\n",
              "Flow Bytes/s                  float64\n",
              "Flow Packets/s                float64\n",
              "Flow IAT Mean                 float64\n",
              "Flow IAT Std                  float64\n",
              "Flow IAT Max                    int64\n",
              "Flow IAT Min                    int64\n",
              "Fwd IAT Total                   int64\n",
              "Fwd IAT Mean                  float64\n",
              "Fwd IAT Std                   float64\n",
              "Fwd IAT Max                     int64\n",
              "Fwd IAT Min                     int64\n",
              "Bwd IAT Total                   int64\n",
              "Bwd IAT Mean                  float64\n",
              "Bwd IAT Std                   float64\n",
              "Bwd IAT Max                     int64\n",
              "Bwd IAT Min                     int64\n",
              "Fwd PSH Flags                   int64\n",
              "Fwd Header Length               int64\n",
              "Bwd Header Length               int64\n",
              "Fwd Packets/s                 float64\n",
              "Bwd Packets/s                 float64\n",
              "Packet Length Min               int64\n",
              "Packet Length Max               int64\n",
              "Packet Length Mean            float64\n",
              "Packet Length Std             float64\n",
              "Packet Length Variance        float64\n",
              "FIN Flag Count                  int64\n",
              "SYN Flag Count                  int64\n",
              "RST Flag Count                  int64\n",
              "PSH Flag Count                  int64\n",
              "ACK Flag Count                  int64\n",
              "Down/Up Ratio                   int64\n",
              "Average Packet Size           float64\n",
              "Fwd Segment Size Avg          float64\n",
              "Bwd Segment Size Avg          float64\n",
              "Bwd Packet/Bulk Avg             int64\n",
              "Bwd Bulk Rate Avg               int64\n",
              "Subflow Fwd Packets             int64\n",
              "Subflow Fwd Bytes               int64\n",
              "Subflow Bwd Bytes               int64\n",
              "FWD Init Win Bytes              int64\n",
              "Bwd Init Win Bytes              int64\n",
              "Fwd Act Data Pkts               int64\n",
              "Fwd Seg Size Min                int64\n",
              "Idle Mean                     float64\n",
              "Idle Std                      float64\n",
              "Idle Max                      float64\n",
              "Idle Min                      float64\n",
              "Label                          object\n",
              "Label1                         object\n",
              "Label_dark                     object\n",
              "dtype: object"
            ]
          },
          "metadata": {
            "tags": []
          },
          "execution_count": 88
        }
      ]
    },
    {
      "cell_type": "code",
      "metadata": {
        "id": "Vj5uD5hhtVwO"
      },
      "source": [
        "from imblearn.over_sampling import SMOTE\n",
        "import numpy as np"
      ],
      "execution_count": 26,
      "outputs": []
    },
    {
      "cell_type": "code",
      "metadata": {
        "id": "J_6tcIC2uxzJ"
      },
      "source": [
        ""
      ],
      "execution_count": 26,
      "outputs": []
    },
    {
      "cell_type": "markdown",
      "metadata": {
        "id": "bZxeC0HQes86"
      },
      "source": [
        "# Splitting Data into Training and Testing"
      ]
    },
    {
      "cell_type": "code",
      "metadata": {
        "id": "vr8J5VF1YbJU"
      },
      "source": [
        "from sklearn.linear_model import LogisticRegression\n",
        "from sklearn import tree\n",
        "from sklearn.ensemble import RandomForestClassifier\n",
        "from random import sample"
      ],
      "execution_count": 27,
      "outputs": []
    },
    {
      "cell_type": "code",
      "metadata": {
        "colab": {
          "base_uri": "https://localhost:8080/"
        },
        "id": "5lBJi0sDWUbz",
        "outputId": "b6ef5544-6cac-43b9-a8d7-578fef754d6e"
      },
      "source": [
        "# Splitting into training and testing data sets\n",
        "\n",
        "train, test, validate = np.split(df.sample(frac=1), [int(.6*len(df)), int(.8*len(df))])\n",
        "print(train.shape, test.shape, validate.shape)"
      ],
      "execution_count": 28,
      "outputs": [
        {
          "output_type": "stream",
          "text": [
            "(70199, 70) (23400, 70) (23400, 70)\n"
          ],
          "name": "stdout"
        }
      ]
    },
    {
      "cell_type": "code",
      "metadata": {
        "id": "y7qPwIToWtMe"
      },
      "source": [
        "# Now, splitting into classification labels and data\n",
        "y_train = train['Label_dark']\n",
        "x_train = train.drop(['Label_dark','Label', 'Label1'], axis=1)\n",
        "x_train = x_train.select_dtypes(exclude=['object'])\n",
        "\n",
        "y_test = test['Label_dark']\n",
        "x_test = test.drop(['Label_dark','Label', 'Label1'], axis=1)\n",
        "x_test = x_test.select_dtypes(exclude=['object'])\n",
        "\n",
        "y_validate = validate['Label_dark']\n",
        "x_validate = validate.drop(['Label_dark','Label', 'Label1'], axis=1)\n",
        "x_validate = x_validate.select_dtypes(exclude=['object'])"
      ],
      "execution_count": 29,
      "outputs": []
    },
    {
      "cell_type": "code",
      "metadata": {
        "colab": {
          "base_uri": "https://localhost:8080/"
        },
        "id": "oKQHSB8GyZVn",
        "outputId": "82b7ad48-88fd-40fd-d876-4dfb7b416987"
      },
      "source": [
        "print(y_train.value_counts())"
      ],
      "execution_count": 49,
      "outputs": [
        {
          "output_type": "stream",
          "text": [
            "0    55787\n",
            "1    14412\n",
            "Name: Label_dark, dtype: int64\n"
          ],
          "name": "stdout"
        }
      ]
    },
    {
      "cell_type": "code",
      "metadata": {
        "id": "iRjZIi0N4SFi"
      },
      "source": [
        ""
      ],
      "execution_count": null,
      "outputs": []
    },
    {
      "cell_type": "code",
      "metadata": {
        "colab": {
          "base_uri": "https://localhost:8080/"
        },
        "id": "i1nCUjg4vsop",
        "outputId": "72c8b5ee-c02c-4113-d443-c43f73ac3db8"
      },
      "source": [
        "sm = SMOTE(random_state=42)\n",
        "\n",
        "x_sm, y_sm = sm.fit_resample(x_train, y_train)\n",
        "\n",
        "print(f'''Shape of X before SMOTE: {x_train.shape}\n",
        "Shape of X after SMOTE: {x_sm.shape}''')\n",
        "\n",
        "print('\\nBalance of positive and negative classes (%):')\n",
        "#y_sm.value_counts(normalize=True) * 100\n",
        "unique, counts = np.unique(y_sm, return_counts=True)\n",
        "\n",
        "dict(zip(unique, counts))"
      ],
      "execution_count": 69,
      "outputs": [
        {
          "output_type": "stream",
          "text": [
            "/usr/local/lib/python3.7/dist-packages/sklearn/utils/deprecation.py:87: FutureWarning: Function safe_indexing is deprecated; safe_indexing is deprecated in version 0.22 and will be removed in version 0.24.\n",
            "  warnings.warn(msg, category=FutureWarning)\n"
          ],
          "name": "stderr"
        },
        {
          "output_type": "stream",
          "text": [
            "Shape of X before SMOTE: (70199, 64)\n",
            "Shape of X after SMOTE: (111574, 64)\n",
            "\n",
            "Balance of positive and negative classes (%):\n"
          ],
          "name": "stdout"
        },
        {
          "output_type": "execute_result",
          "data": {
            "text/plain": [
              "{'0': 55787, '1': 55787}"
            ]
          },
          "metadata": {
            "tags": []
          },
          "execution_count": 69
        }
      ]
    },
    {
      "cell_type": "markdown",
      "metadata": {
        "id": "K_WsMdku06x7"
      },
      "source": [
        "We have a whole lot of columns right now. We want to remove as many of these to speed up our machine learning algorithm without hurting its accuracy. We will utilize the `DataFrame.feature_importances_` function for this."
      ]
    },
    {
      "cell_type": "code",
      "metadata": {
        "id": "7ssRcC3GYLYz"
      },
      "source": [
        "# Here, we are showing how each feature's importance to the random forest\n",
        "\n",
        "rf = RandomForestClassifier()\n",
        "rf.fit(x_train, y_train)\n",
        "importance = sorted(zip(map(lambda x: round(x, 4), rf.feature_importances_), x_train), reverse=True)"
      ],
      "execution_count": 43,
      "outputs": []
    },
    {
      "cell_type": "code",
      "metadata": {
        "colab": {
          "base_uri": "https://localhost:8080/",
          "height": 843
        },
        "id": "NNCQUmhocI_w",
        "outputId": "2a5265ee-48a6-4c5c-ec82-cf77c09e9d37"
      },
      "source": [
        "# Now, we plot the importance to see which columns we want to keep\n",
        "\n",
        "labels = [row[1] for row in importance]\n",
        "info = [row[0] for row in importance]\n",
        "plt.figure(figsize=(8,14))\n",
        "plt.title('Feature Importance')\n",
        "sns.barplot(x = info, y= labels)"
      ],
      "execution_count": 44,
      "outputs": [
        {
          "output_type": "execute_result",
          "data": {
            "text/plain": [
              "<matplotlib.axes._subplots.AxesSubplot at 0x7fdf3b3f5890>"
            ]
          },
          "metadata": {
            "tags": []
          },
          "execution_count": 44
        },
        {
          "output_type": "display_data",
          "data": {
            "image/png": "[encoded data removed]",
            "text/plain": [
              "<Figure size 576x1008 with 1 Axes>"
            ]
          },
          "metadata": {
            "tags": []
          }
        }
      ]
    },
    {
      "cell_type": "code",
      "metadata": {
        "id": "FZqUOh04UMDq"
      },
      "source": [
        "# We want to use only a specific amout of the top features.\n",
        "\n",
        "features = x_train.columns.tolist()\n",
        "top_feat = [row[1] for row in importance[20]]\n",
        "remove_features = [col for col in features if col not in top_feat]\n",
        "\n",
        "x_train = x_train.drop(remove_features, axis=1)\n",
        "x_test = x_test.drop(remove_features, axis=1)\n",
        "x_validate = x_validate.drop(remove_features, axis=1)"
      ],
      "execution_count": null,
      "outputs": []
    },
    {
      "cell_type": "code",
      "metadata": {
        "id": "9uUZHEtA80QX"
      },
      "source": [
        ""
      ],
      "execution_count": null,
      "outputs": []
    },
    {
      "cell_type": "markdown",
      "metadata": {
        "id": "QlUAettFK9ub"
      },
      "source": [
        "# Classification\n",
        "\n",
        "## Steps\n",
        "1. Initialize the classifier\n",
        "2. Train the classifier\n",
        "3. Predict the target\n",
        "4. Evaluate, find error"
      ]
    },
    {
      "cell_type": "markdown",
      "metadata": {
        "id": "QT9crj0aLdmh"
      },
      "source": [
        "## Logistic Regression"
      ]
    },
    {
      "cell_type": "code",
      "metadata": {
        "id": "PMgt4-ncSGhM"
      },
      "source": [
        "from sklearn.linear_model import LogisticRegression\n",
        "from sklearn import metrics"
      ],
      "execution_count": 63,
      "outputs": []
    },
    {
      "cell_type": "code",
      "metadata": {
        "colab": {
          "base_uri": "https://localhost:8080/"
        },
        "id": "68Rfe2b1Sn4s",
        "outputId": "c98e8264-69a2-4ab0-88a6-05bd65dd22f0"
      },
      "source": [
        "lr = LogisticRegression(random_state=0, solver='sag')\n",
        "lr.fit(x_train, y_train)\n",
        "\n",
        "print('Accuracy of training data', lr.score(x_train, y_train))\n",
        "\n",
        "# Predicting for the testing data set\n",
        "pred_y = pd.DataFrame(lr.predict(x_test))\n",
        "\n",
        "probs = pd.DataFrame(lr.predict_proba(x_test))\n",
        "print('Accuracy of testing data ', metrics.accuracy_score(y_test, pred_y))"
      ],
      "execution_count": 76,
      "outputs": [
        {
          "output_type": "stream",
          "text": [
            "Accuracy of training data 0.6493539794014159\n",
            "Accuracy of testing data  0.6488034188034189\n"
          ],
          "name": "stdout"
        }
      ]
    },
    {
      "cell_type": "code",
      "metadata": {
        "colab": {
          "base_uri": "https://localhost:8080/"
        },
        "id": "BagehnlCfCQH",
        "outputId": "977fbb6f-c036-4e92-8784-d6ddae9d9835"
      },
      "source": [
        "print(metrics.confusion_matrix(y_test, pred_y))\n",
        "print(metrics.classification_report(y_test, pred_y))"
      ],
      "execution_count": 65,
      "outputs": [
        {
          "output_type": "stream",
          "text": [
            "[[13527  5020]\n",
            " [ 3198  1655]]\n",
            "              precision    recall  f1-score   support\n",
            "\n",
            "           0       0.81      0.73      0.77     18547\n",
            "           1       0.25      0.34      0.29      4853\n",
            "\n",
            "    accuracy                           0.65     23400\n",
            "   macro avg       0.53      0.54      0.53     23400\n",
            "weighted avg       0.69      0.65      0.67     23400\n",
            "\n"
          ],
          "name": "stdout"
        }
      ]
    },
    {
      "cell_type": "markdown",
      "metadata": {
        "id": "ci7Ro7BTSJUE"
      },
      "source": [
        "Random Forest"
      ]
    },
    {
      "cell_type": "code",
      "metadata": {
        "id": "mjaoTKX4X0_M"
      },
      "source": [
        ""
      ],
      "execution_count": null,
      "outputs": []
    },
    {
      "cell_type": "code",
      "metadata": {
        "colab": {
          "base_uri": "https://localhost:8080/"
        },
        "id": "_fZveyDTSH4f",
        "outputId": "db3cb2eb-47e7-4771-a323-fe61dc4ccaca"
      },
      "source": [
        "from sklearn.ensemble import RandomForestClassifier\n",
        "from sklearn.metrics import classification_report\n",
        "model = RandomForestClassifier(n_estimators=100)\n",
        "model.fit(x_sm , y_sm)\n",
        "y_pred = model.predict(x_test)\n",
        "print(metrics.confusion_matrix(y_test, y_pred))\n",
        "print(metrics.classification_report(y_test, y_pred))"
      ],
      "execution_count": 82,
      "outputs": [
        {
          "output_type": "stream",
          "text": [
            "[[18190   357]\n",
            " [  198  4655]]\n",
            "              precision    recall  f1-score   support\n",
            "\n",
            "           0       0.99      0.98      0.98     18547\n",
            "           1       0.93      0.96      0.94      4853\n",
            "\n",
            "    accuracy                           0.98     23400\n",
            "   macro avg       0.96      0.97      0.96     23400\n",
            "weighted avg       0.98      0.98      0.98     23400\n",
            "\n"
          ],
          "name": "stdout"
        }
      ]
    },
    {
      "cell_type": "markdown",
      "metadata": {
        "id": "45ifpV2mX_fP"
      },
      "source": [
        "Gradient Boosting"
      ]
    },
    {
      "cell_type": "code",
      "metadata": {
        "colab": {
          "base_uri": "https://localhost:8080/"
        },
        "id": "wl3JhY5rYENn",
        "outputId": "e24ef559-d5b1-4544-b22d-65b89ceaa293"
      },
      "source": [
        "from sklearn.ensemble import GradientBoostingClassifier\n",
        "model_GB = GradientBoostingClassifier(n_estimators=100)\n",
        "model_GB.fit(x_sm , y_sm)\n",
        "y_pred = model_GB.predict(x_test)\n",
        "print(metrics.confusion_matrix(y_test, y_pred))\n",
        "print(metrics.classification_report(y_test, y_pred))"
      ],
      "execution_count": 83,
      "outputs": [
        {
          "output_type": "stream",
          "text": [
            "[[17910   637]\n",
            " [  241  4612]]\n",
            "              precision    recall  f1-score   support\n",
            "\n",
            "           0       0.99      0.97      0.98     18547\n",
            "           1       0.88      0.95      0.91      4853\n",
            "\n",
            "    accuracy                           0.96     23400\n",
            "   macro avg       0.93      0.96      0.94     23400\n",
            "weighted avg       0.96      0.96      0.96     23400\n",
            "\n"
          ],
          "name": "stdout"
        }
      ]
    },
    {
      "cell_type": "markdown",
      "metadata": {
        "id": "UmTLauZIcVZ5"
      },
      "source": [
        "Ada Boost"
      ]
    },
    {
      "cell_type": "code",
      "metadata": {
        "colab": {
          "base_uri": "https://localhost:8080/"
        },
        "id": "_-gQTbfgcbYa",
        "outputId": "096f71cb-e75b-4e30-c9ab-1e60694d4e85"
      },
      "source": [
        "from sklearn.ensemble import AdaBoostClassifier\n",
        "model_ad = AdaBoostClassifier()\n",
        "model_ad.fit(x_sm , y_sm)\n",
        "y_pred = model_ad.predict(x_test)\n",
        "print(metrics.confusion_matrix(y_test, y_pred))\n",
        "print(metrics.classification_report(y_test, y_pred))"
      ],
      "execution_count": 85,
      "outputs": [
        {
          "output_type": "stream",
          "text": [
            "[[17527  1020]\n",
            " [  341  4512]]\n",
            "              precision    recall  f1-score   support\n",
            "\n",
            "           0       0.98      0.95      0.96     18547\n",
            "           1       0.82      0.93      0.87      4853\n",
            "\n",
            "    accuracy                           0.94     23400\n",
            "   macro avg       0.90      0.94      0.92     23400\n",
            "weighted avg       0.95      0.94      0.94     23400\n",
            "\n"
          ],
          "name": "stdout"
        }
      ]
    },
    {
      "cell_type": "markdown",
      "metadata": {
        "id": "BoFYa2uj6Qn-"
      },
      "source": [
        "\n",
        "# Working with data\n",
        "\n",
        "### Next steps\n",
        "1. Split data into a train set and a test set"
      ]
    },
    {
      "cell_type": "markdown",
      "metadata": {
        "id": "qhp1hXt9KaQq"
      },
      "source": [
        "**Timestamp**: Plot and Heatmap\n",
        "\n",
        "See what time the traffic is higher."
      ]
    },
    {
      "cell_type": "markdown",
      "metadata": {
        "id": "7mVvDRrOKu-S"
      },
      "source": [
        "**Feature correlation**"
      ]
    }
  ]
}