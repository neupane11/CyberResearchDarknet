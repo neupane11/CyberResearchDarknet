{
 "metadata": {
  "language_info": {
   "codemirror_mode": {
    "name": "ipython",
    "version": 3
   },
   "file_extension": ".py",
   "mimetype": "text/x-python",
   "name": "python",
   "nbconvert_exporter": "python",
   "pygments_lexer": "ipython3",
   "version": "3.8.5"
  },
  "orig_nbformat": 2,
  "kernelspec": {
   "name": "python3",
   "display_name": "Python 3.8.5 64-bit ('base': conda)",
   "metadata": {
    "interpreter": {
     "hash": "dd674d8b4a9b27d82bfef5481c01e6816fc0424f8bdb99733c021f4b244750af"
    }
   }
  }
 },
 "nbformat": 4,
 "nbformat_minor": 2,
 "cells": [
  {
   "cell_type": "code",
   "execution_count": null,
   "metadata": {},
   "outputs": [],
   "source": [
    "#Identify Columns That Contain a Single Value\n",
    "#Delete Columns That Contain a Single Value\n",
    "#Consider Columns That Have Very Few Values\n",
    "#Remove Columns That Have A Low Variance\n",
    "#Identify Rows that Contain Duplicate Data\n",
    "#Delete Rows that Contain Duplicate Data"
   ]
  },
  {
   "cell_type": "code",
   "execution_count": 6,
   "metadata": {},
   "outputs": [
    {
     "output_type": "stream",
     "name": "stdout",
     "text": [
      "0     77569\n1      3915\n2     37779\n3      7198\n4     13361\n      ...  \n80    40090\n81     1398\n82    11373\n83        5\n84       12\nLength: 85, dtype: int64\n"
     ]
    }
   ],
   "source": [
    "from pandas import read_csv\n",
    "file = '/Users/yuv/Desktop/darknet/Darknet.csv'\n",
    "df = read_csv(file, header=None)\n",
    "#unique values in each column\n",
    "print(df.nunique())\n"
   ]
  },
  {
   "cell_type": "code",
   "execution_count": null,
   "metadata": {},
   "outputs": [],
   "source": []
  }
 ]
}